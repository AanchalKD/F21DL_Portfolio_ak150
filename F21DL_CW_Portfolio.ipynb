{
  "nbformat": 4,
  "nbformat_minor": 0,
  "metadata": {
    "colab": {
      "name": "F21DL_CW_Portfolio.ipynb",
      "provenance": []
    },
    "kernelspec": {
      "name": "python3",
      "display_name": "Python 3"
    },
    "language_info": {
      "name": "python"
    }
  },
  "cells": [
    {
      "cell_type": "code",
      "metadata": {
        "id": "8XFhVpYD1W0S"
      },
      "source": [
        "import sklearn\n",
        "from sklearn.cluster import KMeans\n",
        "from sklearn.preprocessing import MinMaxScaler\n",
        "import numpy as np\n",
        "import pandas as pd\n",
        "import tarfile\n",
        "\n",
        "%matplotlib inline\n",
        "import matplotlib as mpl\n",
        "import matplotlib.pyplot as plt\n",
        "\n",
        "import warnings\n",
        "warnings.filterwarnings(action=\"ignore\", message=\"^internal gelsd\")"
      ],
      "execution_count": null,
      "outputs": []
    },
    {
      "cell_type": "markdown",
      "metadata": {
        "id": "5H8AVSofM6L3"
      },
      "source": [
        "I decided to use the Iris dataset as the dataset I originally chose was not suitable for clustering."
      ]
    },
    {
      "cell_type": "code",
      "metadata": {
        "id": "8P7s6keb4hrp",
        "colab": {
          "base_uri": "https://localhost:8080/",
          "height": 206
        },
        "outputId": "340ea20c-f40f-4fa3-8dfb-0e0de9ea6812"
      },
      "source": [
        "df = pd.read_csv(r\"IRIS.csv\")\n",
        "df.head()"
      ],
      "execution_count": null,
      "outputs": [
        {
          "output_type": "execute_result",
          "data": {
            "text/html": [
              "<div>\n",
              "<style scoped>\n",
              "    .dataframe tbody tr th:only-of-type {\n",
              "        vertical-align: middle;\n",
              "    }\n",
              "\n",
              "    .dataframe tbody tr th {\n",
              "        vertical-align: top;\n",
              "    }\n",
              "\n",
              "    .dataframe thead th {\n",
              "        text-align: right;\n",
              "    }\n",
              "</style>\n",
              "<table border=\"1\" class=\"dataframe\">\n",
              "  <thead>\n",
              "    <tr style=\"text-align: right;\">\n",
              "      <th></th>\n",
              "      <th>sepal_length</th>\n",
              "      <th>sepal_width</th>\n",
              "      <th>petal_length</th>\n",
              "      <th>petal_width</th>\n",
              "      <th>species</th>\n",
              "    </tr>\n",
              "  </thead>\n",
              "  <tbody>\n",
              "    <tr>\n",
              "      <th>0</th>\n",
              "      <td>5.1</td>\n",
              "      <td>3.5</td>\n",
              "      <td>1.4</td>\n",
              "      <td>0.2</td>\n",
              "      <td>Iris-setosa</td>\n",
              "    </tr>\n",
              "    <tr>\n",
              "      <th>1</th>\n",
              "      <td>4.9</td>\n",
              "      <td>3.0</td>\n",
              "      <td>1.4</td>\n",
              "      <td>0.2</td>\n",
              "      <td>Iris-setosa</td>\n",
              "    </tr>\n",
              "    <tr>\n",
              "      <th>2</th>\n",
              "      <td>4.7</td>\n",
              "      <td>3.2</td>\n",
              "      <td>1.3</td>\n",
              "      <td>0.2</td>\n",
              "      <td>Iris-setosa</td>\n",
              "    </tr>\n",
              "    <tr>\n",
              "      <th>3</th>\n",
              "      <td>4.6</td>\n",
              "      <td>3.1</td>\n",
              "      <td>1.5</td>\n",
              "      <td>0.2</td>\n",
              "      <td>Iris-setosa</td>\n",
              "    </tr>\n",
              "    <tr>\n",
              "      <th>4</th>\n",
              "      <td>5.0</td>\n",
              "      <td>3.6</td>\n",
              "      <td>1.4</td>\n",
              "      <td>0.2</td>\n",
              "      <td>Iris-setosa</td>\n",
              "    </tr>\n",
              "  </tbody>\n",
              "</table>\n",
              "</div>"
            ],
            "text/plain": [
              "   sepal_length  sepal_width  petal_length  petal_width      species\n",
              "0           5.1          3.5           1.4          0.2  Iris-setosa\n",
              "1           4.9          3.0           1.4          0.2  Iris-setosa\n",
              "2           4.7          3.2           1.3          0.2  Iris-setosa\n",
              "3           4.6          3.1           1.5          0.2  Iris-setosa\n",
              "4           5.0          3.6           1.4          0.2  Iris-setosa"
            ]
          },
          "metadata": {},
          "execution_count": 770
        }
      ]
    },
    {
      "cell_type": "markdown",
      "metadata": {
        "id": "TwwvZymgMy3d"
      },
      "source": [
        "# K-Means"
      ]
    },
    {
      "cell_type": "code",
      "metadata": {
        "colab": {
          "base_uri": "https://localhost:8080/",
          "height": 283
        },
        "id": "n4RJyOMe8ZzP",
        "outputId": "c30aed8d-c97f-4e47-ed9d-db195c4b872b"
      },
      "source": [
        "plt.scatter(df.petal_length, df.petal_width)"
      ],
      "execution_count": null,
      "outputs": [
        {
          "output_type": "execute_result",
          "data": {
            "text/plain": [
              "<matplotlib.collections.PathCollection at 0x7f1a3a38bcd0>"
            ]
          },
          "metadata": {},
          "execution_count": 771
        },
        {
          "output_type": "display_data",
          "data": {
            "image/png": "[encoded data removed]",
            "text/plain": [
              "<Figure size 432x288 with 1 Axes>"
            ]
          },
          "metadata": {
            "needs_background": "light"
          }
        }
      ]
    },
    {
      "cell_type": "markdown",
      "metadata": {
        "id": "gp3U4CzHau38"
      },
      "source": [
        "Assuming we don't know the number of clusters optimal for this dataset, we use the elbow technique to find the best k-value through the squared sum of error found with a range of k-values."
      ]
    },
    {
      "cell_type": "code",
      "metadata": {
        "colab": {
          "base_uri": "https://localhost:8080/"
        },
        "id": "4Jh7zhawIJtm",
        "outputId": "9caace48-da68-49f1-9d25-dec6fddec7b6"
      },
      "source": [
        "k_range = range(1,10)\n",
        "sse = []\n",
        "for k in k_range:\n",
        "  km = KMeans(n_clusters=k)\n",
        "  km.fit_predict(df[['petal_length','petal_width']])\n",
        "  sse.append(km.inertia_)\n",
        "sse"
      ],
      "execution_count": null,
      "outputs": [
        {
          "output_type": "execute_result",
          "data": {
            "text/plain": [
              "[550.6434666666669,\n",
              " 86.40394533571003,\n",
              " 31.38775897435897,\n",
              " 19.499400899685114,\n",
              " 13.933308757908755,\n",
              " 11.073657664362928,\n",
              " 9.21026673204751,\n",
              " 7.762348930296762,\n",
              " 6.472894541406307]"
            ]
          },
          "metadata": {},
          "execution_count": 772
        }
      ]
    },
    {
      "cell_type": "markdown",
      "metadata": {
        "id": "VQsgwq0_bGE5"
      },
      "source": [
        "After finding the range we then plot the values out and select the k-value where the graph seems like it is forming an asymptote or \"the elbow point\"."
      ]
    },
    {
      "cell_type": "code",
      "metadata": {
        "colab": {
          "base_uri": "https://localhost:8080/",
          "height": 283
        },
        "id": "qPIBmiVwJKMw",
        "outputId": "30275d96-1d2b-4a92-fe49-ee56a5db5c55"
      },
      "source": [
        "plt.plot(k_range,sse)"
      ],
      "execution_count": null,
      "outputs": [
        {
          "output_type": "execute_result",
          "data": {
            "text/plain": [
              "[<matplotlib.lines.Line2D at 0x7f1a39b23210>]"
            ]
          },
          "metadata": {},
          "execution_count": 773
        },
        {
          "output_type": "display_data",
          "data": {
            "image/png": "[encoded data removed]",
            "text/plain": [
              "<Figure size 432x288 with 1 Axes>"
            ]
          },
          "metadata": {
            "needs_background": "light"
          }
        }
      ]
    },
    {
      "cell_type": "markdown",
      "metadata": {
        "id": "kXlfIyk8bs8-"
      },
      "source": [
        "Using this, we have determined that the k-value most optimal is 3. This also falls in line with our knowledge of the dataset."
      ]
    },
    {
      "cell_type": "code",
      "metadata": {
        "colab": {
          "base_uri": "https://localhost:8080/"
        },
        "id": "k0A9intX0hYB",
        "outputId": "d2b300b5-fcff-429c-dcef-b6e1acec7238"
      },
      "source": [
        "km = KMeans(n_clusters=3)\n",
        "km"
      ],
      "execution_count": null,
      "outputs": [
        {
          "output_type": "execute_result",
          "data": {
            "text/plain": [
              "KMeans(n_clusters=3)"
            ]
          },
          "metadata": {},
          "execution_count": 774
        }
      ]
    },
    {
      "cell_type": "markdown",
      "metadata": {
        "id": "OFNYKejzfzKQ"
      },
      "source": [
        "We run the fit and prediction for the given data and then classify all the points into clusters as shown below."
      ]
    },
    {
      "cell_type": "code",
      "metadata": {
        "colab": {
          "base_uri": "https://localhost:8080/"
        },
        "id": "BEk_k0wu1pL9",
        "outputId": "3ac3401d-ac0f-4449-b5a0-d11671cb9d31"
      },
      "source": [
        "y_pred = km.fit_predict(df[['petal_length','petal_width']])\n",
        "y_pred"
      ],
      "execution_count": null,
      "outputs": [
        {
          "output_type": "execute_result",
          "data": {
            "text/plain": [
              "array([1, 1, 1, 1, 1, 1, 1, 1, 1, 1, 1, 1, 1, 1, 1, 1, 1, 1, 1, 1, 1, 1,\n",
              "       1, 1, 1, 1, 1, 1, 1, 1, 1, 1, 1, 1, 1, 1, 1, 1, 1, 1, 1, 1, 1, 1,\n",
              "       1, 1, 1, 1, 1, 1, 2, 2, 2, 2, 2, 2, 2, 2, 2, 2, 2, 2, 2, 2, 2, 2,\n",
              "       2, 2, 2, 2, 2, 2, 2, 2, 2, 2, 2, 0, 2, 2, 2, 2, 2, 0, 2, 2, 2, 2,\n",
              "       2, 2, 2, 2, 2, 2, 2, 2, 2, 2, 2, 2, 0, 0, 0, 0, 0, 0, 2, 0, 0, 0,\n",
              "       0, 0, 0, 0, 0, 0, 0, 0, 0, 2, 0, 0, 0, 0, 0, 0, 2, 0, 0, 0, 0, 0,\n",
              "       0, 0, 0, 0, 0, 0, 2, 0, 0, 0, 0, 0, 0, 0, 0, 0, 0, 0], dtype=int32)"
            ]
          },
          "metadata": {},
          "execution_count": 775
        }
      ]
    },
    {
      "cell_type": "code",
      "metadata": {
        "colab": {
          "base_uri": "https://localhost:8080/",
          "height": 206
        },
        "id": "gYISoX892NvK",
        "outputId": "7616d7a5-6065-434d-9f69-5aa79e6c6c5e"
      },
      "source": [
        "df['cluster'] = y_pred\n",
        "df.head()"
      ],
      "execution_count": null,
      "outputs": [
        {
          "output_type": "execute_result",
          "data": {
            "text/html": [
              "<div>\n",
              "<style scoped>\n",
              "    .dataframe tbody tr th:only-of-type {\n",
              "        vertical-align: middle;\n",
              "    }\n",
              "\n",
              "    .dataframe tbody tr th {\n",
              "        vertical-align: top;\n",
              "    }\n",
              "\n",
              "    .dataframe thead th {\n",
              "        text-align: right;\n",
              "    }\n",
              "</style>\n",
              "<table border=\"1\" class=\"dataframe\">\n",
              "  <thead>\n",
              "    <tr style=\"text-align: right;\">\n",
              "      <th></th>\n",
              "      <th>sepal_length</th>\n",
              "      <th>sepal_width</th>\n",
              "      <th>petal_length</th>\n",
              "      <th>petal_width</th>\n",
              "      <th>species</th>\n",
              "      <th>cluster</th>\n",
              "    </tr>\n",
              "  </thead>\n",
              "  <tbody>\n",
              "    <tr>\n",
              "      <th>0</th>\n",
              "      <td>5.1</td>\n",
              "      <td>3.5</td>\n",
              "      <td>1.4</td>\n",
              "      <td>0.2</td>\n",
              "      <td>Iris-setosa</td>\n",
              "      <td>1</td>\n",
              "    </tr>\n",
              "    <tr>\n",
              "      <th>1</th>\n",
              "      <td>4.9</td>\n",
              "      <td>3.0</td>\n",
              "      <td>1.4</td>\n",
              "      <td>0.2</td>\n",
              "      <td>Iris-setosa</td>\n",
              "      <td>1</td>\n",
              "    </tr>\n",
              "    <tr>\n",
              "      <th>2</th>\n",
              "      <td>4.7</td>\n",
              "      <td>3.2</td>\n",
              "      <td>1.3</td>\n",
              "      <td>0.2</td>\n",
              "      <td>Iris-setosa</td>\n",
              "      <td>1</td>\n",
              "    </tr>\n",
              "    <tr>\n",
              "      <th>3</th>\n",
              "      <td>4.6</td>\n",
              "      <td>3.1</td>\n",
              "      <td>1.5</td>\n",
              "      <td>0.2</td>\n",
              "      <td>Iris-setosa</td>\n",
              "      <td>1</td>\n",
              "    </tr>\n",
              "    <tr>\n",
              "      <th>4</th>\n",
              "      <td>5.0</td>\n",
              "      <td>3.6</td>\n",
              "      <td>1.4</td>\n",
              "      <td>0.2</td>\n",
              "      <td>Iris-setosa</td>\n",
              "      <td>1</td>\n",
              "    </tr>\n",
              "  </tbody>\n",
              "</table>\n",
              "</div>"
            ],
            "text/plain": [
              "   sepal_length  sepal_width  petal_length  petal_width      species  cluster\n",
              "0           5.1          3.5           1.4          0.2  Iris-setosa        1\n",
              "1           4.9          3.0           1.4          0.2  Iris-setosa        1\n",
              "2           4.7          3.2           1.3          0.2  Iris-setosa        1\n",
              "3           4.6          3.1           1.5          0.2  Iris-setosa        1\n",
              "4           5.0          3.6           1.4          0.2  Iris-setosa        1"
            ]
          },
          "metadata": {},
          "execution_count": 776
        }
      ]
    },
    {
      "cell_type": "code",
      "metadata": {
        "colab": {
          "base_uri": "https://localhost:8080/",
          "height": 283
        },
        "id": "lJWIxCHm2WWe",
        "outputId": "eefcfaee-d618-439e-9efe-6166780ede0e"
      },
      "source": [
        "c0 = df[df['cluster'] == 0]\n",
        "c1 = df[df['cluster'] == 1]\n",
        "c2 = df[df['cluster'] == 2]\n",
        "\n",
        "plt.scatter(c0.petal_length, c0.petal_width, color='blue', label='Iris-virginica')\n",
        "plt.scatter(c1.petal_length, c1.petal_width, color='red', label='Iris-setosa')\n",
        "plt.scatter(c2.petal_length, c2.petal_width, color='green', label='Iris-versicolor')\n",
        "\n",
        "plt.scatter(km.cluster_centers_[:,0], km.cluster_centers_[:,1], color='black', marker='*', label='centroid')\n",
        "\n",
        "plt.legend()"
      ],
      "execution_count": null,
      "outputs": [
        {
          "output_type": "execute_result",
          "data": {
            "text/plain": [
              "<matplotlib.legend.Legend at 0x7f1a39a99d10>"
            ]
          },
          "metadata": {},
          "execution_count": 777
        },
        {
          "output_type": "display_data",
          "data": {
            "image/png": "[encoded data removed]",
            "text/plain": [
              "<Figure size 432x288 with 1 Axes>"
            ]
          },
          "metadata": {
            "needs_background": "light"
          }
        }
      ]
    },
    {
      "cell_type": "markdown",
      "metadata": {
        "id": "jGxK9EyYgAHX"
      },
      "source": [
        "Plotting the graph again, this time with the different clusters coloured, shows how the clustering has been carried out. This is an accurate representation of the flowers' grouping in reality. The stars in the center of each cluster are the centroids of the given cluster. The centroids are listed below."
      ]
    },
    {
      "cell_type": "code",
      "metadata": {
        "colab": {
          "base_uri": "https://localhost:8080/"
        },
        "id": "SoSWoSAxHW3o",
        "outputId": "17fb2c77-da75-4e8e-a8c7-99baa45371a4"
      },
      "source": [
        "km.cluster_centers_"
      ],
      "execution_count": null,
      "outputs": [
        {
          "output_type": "execute_result",
          "data": {
            "text/plain": [
              "array([[5.59583333, 2.0375    ],\n",
              "       [1.464     , 0.244     ],\n",
              "       [4.26923077, 1.34230769]])"
            ]
          },
          "metadata": {},
          "execution_count": 778
        }
      ]
    },
    {
      "cell_type": "markdown",
      "metadata": {
        "id": "HuHLuBgdgad8"
      },
      "source": [
        "Some notes on K-Means clustering include the lack of the ability to deal with overlapping clusters and is more suited to dealing with globular groups than other kinds. In this particular dataset we find that it works well enough however it will not always be so."
      ]
    },
    {
      "cell_type": "markdown",
      "metadata": {
        "id": "UMonUnFuNc8e"
      },
      "source": [
        "# DBSCAN"
      ]
    },
    {
      "cell_type": "code",
      "metadata": {
        "id": "tVJJ19MnEt-u"
      },
      "source": [
        "from sklearn.cluster import DBSCAN\n",
        "from pandas import DataFrame"
      ],
      "execution_count": null,
      "outputs": []
    },
    {
      "cell_type": "code",
      "metadata": {
        "colab": {
          "base_uri": "https://localhost:8080/"
        },
        "id": "OZ9d6OMNULp-",
        "outputId": "a20c28e2-c3f4-4873-d65f-658f93d159e4"
      },
      "source": [
        "clustering = DBSCAN(eps=1, min_samples=2).fit(df[['petal_length','petal_width']])\n",
        "cluster = clustering.labels_\n",
        "len(set(cluster))"
      ],
      "execution_count": null,
      "outputs": [
        {
          "output_type": "execute_result",
          "data": {
            "text/plain": [
              "2"
            ]
          },
          "metadata": {},
          "execution_count": 780
        }
      ]
    },
    {
      "cell_type": "code",
      "metadata": {
        "colab": {
          "base_uri": "https://localhost:8080/",
          "height": 497
        },
        "id": "XOe8IKejURU8",
        "outputId": "bf62db74-c093-440e-aaeb-1b5de4fef0d1"
      },
      "source": [
        "ndf = df[['petal_length', 'petal_width']]\n",
        "dbdf = DataFrame(dict(x=df['petal_length'], y=df['petal_width'], label=cluster))\n",
        "colors = {-1:'red', 0:'blue', 1:'green'}\n",
        "fig, ax = plt.subplots(figsize=(8,8))\n",
        "grouped = dbdf.groupby('label')\n",
        "for key, group in grouped:\n",
        "  group.plot(ax=ax, kind='scatter', x='x', y='y', label=key, color=colors[key])\n",
        "\n",
        "plt.show()"
      ],
      "execution_count": null,
      "outputs": [
        {
          "output_type": "display_data",
          "data": {
            "image/png": "[encoded data removed]",
            "text/plain": [
              "<Figure size 576x576 with 1 Axes>"
            ]
          },
          "metadata": {
            "needs_background": "light"
          }
        }
      ]
    },
    {
      "cell_type": "markdown",
      "metadata": {
        "id": "v30gepnrZBho"
      },
      "source": [
        "It looks like this particular clustering method does not suit this dataset as we know there are supposed to be three clusters however we can not set that in density-based spacial clustering applications with noise. We also do not see any noise points."
      ]
    },
    {
      "cell_type": "markdown",
      "metadata": {
        "id": "79Vpx2iBZaJV"
      },
      "source": [
        "We could try to change the epsilon and min_samples values to get better results however increasing the epsilon value can only reduce the number of clusters and increasing the number of min samples has a similar effect or might push all the points to be noise points."
      ]
    },
    {
      "cell_type": "markdown",
      "metadata": {
        "id": "JLdOPkF-Z2iT"
      },
      "source": [
        "Regardless, I have tested some values below."
      ]
    },
    {
      "cell_type": "markdown",
      "metadata": {
        "id": "E6IxjmOlZ6hz"
      },
      "source": [
        "### Epsilon"
      ]
    },
    {
      "cell_type": "code",
      "metadata": {
        "colab": {
          "base_uri": "https://localhost:8080/"
        },
        "id": "-pfrJQvkZupN",
        "outputId": "bb3d4374-a704-4d27-fe8f-a2b4b743cbd6"
      },
      "source": [
        "clustering = DBSCAN(eps=2, min_samples=2).fit(df[['petal_length','petal_width']])\n",
        "cluster = clustering.labels_\n",
        "len(set(cluster))"
      ],
      "execution_count": null,
      "outputs": [
        {
          "output_type": "execute_result",
          "data": {
            "text/plain": [
              "1"
            ]
          },
          "metadata": {},
          "execution_count": 782
        }
      ]
    },
    {
      "cell_type": "code",
      "metadata": {
        "colab": {
          "base_uri": "https://localhost:8080/"
        },
        "id": "qxPgM_Q_ZyEa",
        "outputId": "6b26c158-1468-4962-e4ac-ade6ff3bde80"
      },
      "source": [
        "clustering = DBSCAN(eps=3, min_samples=2).fit(df[['petal_length','petal_width']])\n",
        "cluster = clustering.labels_\n",
        "len(set(cluster))"
      ],
      "execution_count": null,
      "outputs": [
        {
          "output_type": "execute_result",
          "data": {
            "text/plain": [
              "1"
            ]
          },
          "metadata": {},
          "execution_count": 783
        }
      ]
    },
    {
      "cell_type": "code",
      "metadata": {
        "colab": {
          "base_uri": "https://localhost:8080/"
        },
        "id": "_1dsJfkBZ0Pd",
        "outputId": "dd02d10a-417e-417d-be2e-bae919174594"
      },
      "source": [
        "clustering = DBSCAN(eps=9, min_samples=2).fit(df[['petal_length','petal_width']])\n",
        "cluster = clustering.labels_\n",
        "len(set(cluster))"
      ],
      "execution_count": null,
      "outputs": [
        {
          "output_type": "execute_result",
          "data": {
            "text/plain": [
              "1"
            ]
          },
          "metadata": {},
          "execution_count": 784
        }
      ]
    },
    {
      "cell_type": "markdown",
      "metadata": {
        "id": "Fr1NZUVDaHPh"
      },
      "source": [
        "### Min_Samples"
      ]
    },
    {
      "cell_type": "code",
      "metadata": {
        "colab": {
          "base_uri": "https://localhost:8080/"
        },
        "id": "LvUHAiF9aM0W",
        "outputId": "6c1b4a7e-3dda-4f8d-be9a-9a3242e1b985"
      },
      "source": [
        "clustering = DBSCAN(eps=1, min_samples=1).fit(df[['petal_length','petal_width']])\n",
        "cluster = clustering.labels_\n",
        "len(set(cluster))"
      ],
      "execution_count": null,
      "outputs": [
        {
          "output_type": "execute_result",
          "data": {
            "text/plain": [
              "2"
            ]
          },
          "metadata": {},
          "execution_count": 785
        }
      ]
    },
    {
      "cell_type": "code",
      "metadata": {
        "colab": {
          "base_uri": "https://localhost:8080/"
        },
        "id": "YqimEs4uaSaJ",
        "outputId": "6db9f368-2f5d-4a78-87b3-36aa6ec03b9f"
      },
      "source": [
        "clustering = DBSCAN(eps=1, min_samples=5).fit(df[['petal_length','petal_width']])\n",
        "cluster = clustering.labels_\n",
        "len(set(cluster))"
      ],
      "execution_count": null,
      "outputs": [
        {
          "output_type": "execute_result",
          "data": {
            "text/plain": [
              "2"
            ]
          },
          "metadata": {},
          "execution_count": 786
        }
      ]
    },
    {
      "cell_type": "code",
      "metadata": {
        "colab": {
          "base_uri": "https://localhost:8080/"
        },
        "id": "KZ4iYOltaU-g",
        "outputId": "1663d5d0-18ea-49a9-db47-3f35e3b9844b"
      },
      "source": [
        "clustering = DBSCAN(eps=1, min_samples=20).fit(df[['petal_length','petal_width']])\n",
        "cluster = clustering.labels_\n",
        "len(set(cluster))"
      ],
      "execution_count": null,
      "outputs": [
        {
          "output_type": "execute_result",
          "data": {
            "text/plain": [
              "2"
            ]
          },
          "metadata": {},
          "execution_count": 787
        }
      ]
    },
    {
      "cell_type": "markdown",
      "metadata": {
        "id": "d2lCzlFyaZDB"
      },
      "source": [
        "Unfortunately finding the right parameters in this particular clustering algorithm might not be possible with my current skillset and knowledge."
      ]
    },
    {
      "cell_type": "markdown",
      "metadata": {
        "id": "EYghmsHthSrq"
      },
      "source": [
        "Some notes about the DBSCAN method include that it works well with arbitrary shapes and so does not have any particular shape it works better with. It also does not require the number of clusters to be known, however in cases (such as this) where we do know how many clusters should exist this may not be ideal."
      ]
    },
    {
      "cell_type": "markdown",
      "metadata": {
        "id": "U5AzYwgph00D"
      },
      "source": [
        "A drawback related to finding the right number of clusters is setting the right variable values. Epsilon and min_samples require domain konwledge to correctly find, though they could be identified through testing sometimes. Other times, such as this, knowing the number of clusters but not the epsilon value could indicate this method is not the right one to use."
      ]
    },
    {
      "cell_type": "markdown",
      "metadata": {
        "id": "GmTi2kHscmjP"
      },
      "source": [
        "# Gaussian Mixture Model"
      ]
    },
    {
      "cell_type": "code",
      "metadata": {
        "id": "D58yzW6sBsAn"
      },
      "source": [
        "from sklearn.mixture import GaussianMixture"
      ],
      "execution_count": null,
      "outputs": []
    },
    {
      "cell_type": "code",
      "metadata": {
        "id": "THc0GNTc4stU",
        "colab": {
          "base_uri": "https://localhost:8080/"
        },
        "outputId": "605ce19d-fc8f-4f48-87bc-cca3da6d0a71"
      },
      "source": [
        "gmm = GaussianMixture(n_components=3)\n",
        "gmm.fit(df[['petal_length','petal_width']])"
      ],
      "execution_count": null,
      "outputs": [
        {
          "output_type": "execute_result",
          "data": {
            "text/plain": [
              "GaussianMixture(n_components=3)"
            ]
          },
          "metadata": {},
          "execution_count": 789
        }
      ]
    },
    {
      "cell_type": "code",
      "metadata": {
        "colab": {
          "base_uri": "https://localhost:8080/"
        },
        "id": "G-fifny45ZbM",
        "outputId": "30573f79-6aac-4c2c-9f36-77c7478346f5"
      },
      "source": [
        "labels = gmm.predict(df[['petal_length','petal_width']])\n",
        "df['cluster'] = labels\n",
        "print(df)"
      ],
      "execution_count": null,
      "outputs": [
        {
          "output_type": "stream",
          "name": "stdout",
          "text": [
            "     sepal_length  sepal_width  ...         species  cluster\n",
            "0             5.1          3.5  ...     Iris-setosa        1\n",
            "1             4.9          3.0  ...     Iris-setosa        1\n",
            "2             4.7          3.2  ...     Iris-setosa        1\n",
            "3             4.6          3.1  ...     Iris-setosa        1\n",
            "4             5.0          3.6  ...     Iris-setosa        1\n",
            "..            ...          ...  ...             ...      ...\n",
            "145           6.7          3.0  ...  Iris-virginica        0\n",
            "146           6.3          2.5  ...  Iris-virginica        0\n",
            "147           6.5          3.0  ...  Iris-virginica        0\n",
            "148           6.2          3.4  ...  Iris-virginica        0\n",
            "149           5.9          3.0  ...  Iris-virginica        0\n",
            "\n",
            "[150 rows x 6 columns]\n"
          ]
        }
      ]
    },
    {
      "cell_type": "code",
      "metadata": {
        "id": "WIW7dAH849Qq",
        "colab": {
          "base_uri": "https://localhost:8080/",
          "height": 265
        },
        "outputId": "4c967f53-2f8d-4aa2-c145-41b23625ec07"
      },
      "source": [
        "color=['blue','green','cyan', 'black']\n",
        "for k in range(0,3):\n",
        "    data = df[df[\"cluster\"]==k]\n",
        "    plt.scatter(data.petal_length,data.petal_width,c=color[k])\n",
        "plt.show()"
      ],
      "execution_count": null,
      "outputs": [
        {
          "output_type": "display_data",
          "data": {
            "image/png": "[encoded data removed]",
            "text/plain": [
              "<Figure size 432x288 with 1 Axes>"
            ]
          },
          "metadata": {
            "needs_background": "light"
          }
        }
      ]
    },
    {
      "cell_type": "markdown",
      "metadata": {
        "id": "SJHoNbTB0j9w"
      },
      "source": [
        "One note about Gaussian Mixture Models is that they tend to present themselves in eliptical clusters. Though this did not become much of an issue for this particular dataset, there are many situations they would not fit."
      ]
    },
    {
      "cell_type": "markdown",
      "metadata": {
        "id": "cdJPi7IAfTFU"
      },
      "source": [
        "On the positive side, Gaussian modeling uses probabilities and does not entirely work off of grouping, instead using \"probabalistic grouping\". This is useful when datapoints could possibly be in two or more clusters and so on."
      ]
    },
    {
      "cell_type": "markdown",
      "metadata": {
        "id": "0IM0kAJkSmuF"
      },
      "source": [
        "# Decision Trees"
      ]
    },
    {
      "cell_type": "code",
      "metadata": {
        "id": "c36X0aS5Spws"
      },
      "source": [
        "from sklearn.tree import   DecisionTreeClassifier, plot_tree\n",
        "from sklearn.metrics import accuracy_score\n",
        "from sklearn.model_selection import train_test_split"
      ],
      "execution_count": null,
      "outputs": []
    },
    {
      "cell_type": "code",
      "metadata": {
        "id": "XfAh6InsZWZe"
      },
      "source": [
        "from sklearn.datasets import load_iris\n",
        "from sklearn.tree import DecisionTreeClassifier, plot_tree\n",
        "\n",
        "iris = load_iris()"
      ],
      "execution_count": null,
      "outputs": []
    },
    {
      "cell_type": "code",
      "metadata": {
        "id": "Zx1qX1AKURFD",
        "colab": {
          "base_uri": "https://localhost:8080/"
        },
        "outputId": "54cbbae9-4d63-4a5e-fa5c-ab34fb7d4c77"
      },
      "source": [
        "x = df[[\"petal_length\", \"petal_width\"]]\n",
        "y = df[[\"cluster\"]]\n",
        "print(\"X: \",x)\n",
        "print(\"Y: \",y)"
      ],
      "execution_count": null,
      "outputs": [
        {
          "output_type": "stream",
          "name": "stdout",
          "text": [
            "X:       petal_length  petal_width\n",
            "0             1.4          0.2\n",
            "1             1.4          0.2\n",
            "2             1.3          0.2\n",
            "3             1.5          0.2\n",
            "4             1.4          0.2\n",
            "..            ...          ...\n",
            "145           5.2          2.3\n",
            "146           5.0          1.9\n",
            "147           5.2          2.0\n",
            "148           5.4          2.3\n",
            "149           5.1          1.8\n",
            "\n",
            "[150 rows x 2 columns]\n",
            "Y:       cluster\n",
            "0          1\n",
            "1          1\n",
            "2          1\n",
            "3          1\n",
            "4          1\n",
            "..       ...\n",
            "145        0\n",
            "146        0\n",
            "147        0\n",
            "148        0\n",
            "149        0\n",
            "\n",
            "[150 rows x 1 columns]\n"
          ]
        }
      ]
    },
    {
      "cell_type": "code",
      "metadata": {
        "colab": {
          "base_uri": "https://localhost:8080/"
        },
        "id": "jbslcf5LStFD",
        "outputId": "1d53adc3-393e-424b-c402-2dcc18edb964"
      },
      "source": [
        "classifier = DecisionTreeClassifier(max_depth=2, random_state=42)\n",
        "classifier.fit(x, y)"
      ],
      "execution_count": null,
      "outputs": [
        {
          "output_type": "execute_result",
          "data": {
            "text/plain": [
              "DecisionTreeClassifier(max_depth=2, random_state=42)"
            ]
          },
          "metadata": {},
          "execution_count": 795
        }
      ]
    },
    {
      "cell_type": "code",
      "metadata": {
        "colab": {
          "base_uri": "https://localhost:8080/",
          "height": 248
        },
        "id": "SEVKYSFqdFML",
        "outputId": "25fe3c24-27c8-4290-c31c-7b63c7474e0d"
      },
      "source": [
        "plot_tree(classifier);"
      ],
      "execution_count": null,
      "outputs": [
        {
          "output_type": "display_data",
          "data": {
            "image/png": "[encoded data removed]",
            "text/plain": [
              "<Figure size 432x288 with 1 Axes>"
            ]
          },
          "metadata": {
            "needs_background": "light"
          }
        }
      ]
    },
    {
      "cell_type": "code",
      "metadata": {
        "colab": {
          "base_uri": "https://localhost:8080/",
          "height": 342
        },
        "id": "6qeps_mGe-aa",
        "outputId": "c6a5d5b7-7441-43b8-e135-61295ff3b4a1"
      },
      "source": [
        "from matplotlib.colors import ListedColormap\n",
        "\n",
        "def plot_decision_boundary(clf, x, y, axes=[0, 7.5, 0, 3], iris=True, legend=False, plot_training=True):\n",
        "    x1s = np.linspace(axes[0], axes[1], 100)\n",
        "    x2s = np.linspace(axes[2], axes[3], 100)\n",
        "   \n",
        "    x1, x2 = np.meshgrid(x1s, x2s)\n",
        "\n",
        "    X_new = np.c_[x1.ravel(), x2.ravel()]\n",
        "    y_pred = clf.predict(X_new).reshape(x1.shape)\n",
        "\n",
        "    custom_cmap = ListedColormap(['#fafab0','#9898ff','#a0faa0'])\n",
        "    plt.contourf(x1, x2, y_pred, alpha=0.3, cmap=custom_cmap)\n",
        "    if not iris:\n",
        "        custom_cmap2 = ListedColormap(['#7d7d58','#4c4c7f','#507d50'])\n",
        "        plt.contour(x1, x2, y_pred, cmap=custom_cmap2, alpha=0.8)\n",
        "    if plot_training:\n",
        "        p0 = df[df['cluster'] == 0]\n",
        "        p1 = df[df['cluster'] == 1]\n",
        "        p2 = df[df['cluster'] == 2]\n",
        "\n",
        "        plt.plot(p0.petal_length, p0.petal_width, \"yo\", label='Iris-virginica')\n",
        "        plt.plot(p1.petal_length, p1.petal_width, \"bs\", label='Iris-setosa')\n",
        "        plt.plot(p2.petal_length, p2.petal_width, \"g^\", label='Iris-versicolor')\n",
        "\n",
        "        plt.axis(axes)\n",
        "    if iris:\n",
        "        plt.xlabel(\"Petal length\", fontsize=14)\n",
        "        plt.ylabel(\"Petal width\", fontsize=14)\n",
        "    else:\n",
        "        plt.xlabel(r\"$x_1$\", fontsize=18)\n",
        "        plt.ylabel(r\"$x_2$\", fontsize=18, rotation=0)\n",
        "    if legend:\n",
        "        plt.legend(loc=\"lower right\", fontsize=14)\n",
        "\n",
        "plt.figure(figsize=(8, 4))\n",
        "plot_decision_boundary(classifier, x, y)\n",
        "plt.plot([2.45, 2.45], [0, 3], \"k-\", linewidth=2)\n",
        "plt.plot([2.45, 7.5], [1.75, 1.75], \"k--\", linewidth=2)\n",
        "plt.plot([4.95, 4.95], [0, 1.75], \"k:\", linewidth=2)\n",
        "plt.plot([4.85, 4.85], [1.75, 3], \"k:\", linewidth=2)\n",
        "plt.text(1.40, 1.0, \"Depth=0\", fontsize=15)\n",
        "plt.text(3.2, 1.80, \"Depth=1\", fontsize=13)\n",
        "plt.text(4.05, 0.5, \"(Depth=2)\", fontsize=11)\n",
        "\n",
        "plt.show()"
      ],
      "execution_count": null,
      "outputs": [
        {
          "output_type": "stream",
          "name": "stderr",
          "text": [
            "/usr/local/lib/python3.7/dist-packages/sklearn/base.py:446: UserWarning: X does not have valid feature names, but DecisionTreeClassifier was fitted with feature names\n",
            "  \"X does not have valid feature names, but\"\n"
          ]
        },
        {
          "output_type": "display_data",
          "data": {
            "image/png": "[encoded data removed]",
            "text/plain": [
              "<Figure size 576x288 with 1 Axes>"
            ]
          },
          "metadata": {
            "needs_background": "light"
          }
        }
      ]
    },
    {
      "cell_type": "markdown",
      "metadata": {
        "id": "JY4yDseqTzYN"
      },
      "source": [
        "## Perfomance Measures"
      ]
    },
    {
      "cell_type": "markdown",
      "metadata": {
        "id": "sc2ImiRDU0Yq"
      },
      "source": [
        "### Accuracy"
      ]
    },
    {
      "cell_type": "code",
      "metadata": {
        "colab": {
          "base_uri": "https://localhost:8080/"
        },
        "id": "YI2CjRSnRQr0",
        "outputId": "64200830-e8cf-4aa9-cb5e-8822aa444427"
      },
      "source": [
        "from sklearn.model_selection import cross_val_score\n",
        "cross_val_score(classifier, x, y, cv=10, scoring=\"accuracy\")"
      ],
      "execution_count": null,
      "outputs": [
        {
          "output_type": "execute_result",
          "data": {
            "text/plain": [
              "array([1.        , 1.        , 1.        , 1.        , 1.        ,\n",
              "       1.        , 0.86666667, 1.        , 1.        , 1.        ])"
            ]
          },
          "metadata": {},
          "execution_count": 798
        }
      ]
    },
    {
      "cell_type": "markdown",
      "metadata": {
        "id": "toq9qV3DVz1a"
      },
      "source": [
        "### Confusion Matrix"
      ]
    },
    {
      "cell_type": "code",
      "metadata": {
        "colab": {
          "base_uri": "https://localhost:8080/"
        },
        "id": "uZbY63HvU9zZ",
        "outputId": "c4aecd45-0586-4346-fc2a-c0166787f2f6"
      },
      "source": [
        "from sklearn.model_selection import cross_val_predict\n",
        "from sklearn.metrics import confusion_matrix\n",
        "\n",
        "y_pred = cross_val_predict(classifier, x, y, cv=10)\n",
        "confusion_matrix(y, y_pred)"
      ],
      "execution_count": null,
      "outputs": [
        {
          "output_type": "execute_result",
          "data": {
            "text/plain": [
              "array([[46,  0,  2],\n",
              "       [ 0, 50,  0],\n",
              "       [ 0,  0, 52]])"
            ]
          },
          "metadata": {},
          "execution_count": 799
        }
      ]
    },
    {
      "cell_type": "code",
      "metadata": {
        "colab": {
          "base_uri": "https://localhost:8080/"
        },
        "id": "3DN8NeO-VU5f",
        "outputId": "4e11a916-fdb9-4b6d-c526-625413e077bd"
      },
      "source": [
        "y_perfect_predictions = y  # pretend we reached perfection\n",
        "confusion_matrix(y, y_perfect_predictions)"
      ],
      "execution_count": null,
      "outputs": [
        {
          "output_type": "execute_result",
          "data": {
            "text/plain": [
              "array([[48,  0,  0],\n",
              "       [ 0, 50,  0],\n",
              "       [ 0,  0, 52]])"
            ]
          },
          "metadata": {},
          "execution_count": 800
        }
      ]
    },
    {
      "cell_type": "markdown",
      "metadata": {
        "id": "WfVaQo-TXlJH"
      },
      "source": [
        "### Precision"
      ]
    },
    {
      "cell_type": "code",
      "metadata": {
        "colab": {
          "base_uri": "https://localhost:8080/"
        },
        "id": "OsRdxBDnXnX_",
        "outputId": "61dc36c2-14de-492c-b4e5-c2379cc977bf"
      },
      "source": [
        "from sklearn.metrics import precision_score\n",
        "\n",
        "precision_score(y, y_pred, average=\"macro\")"
      ],
      "execution_count": null,
      "outputs": [
        {
          "output_type": "execute_result",
          "data": {
            "text/plain": [
              "0.9876543209876543"
            ]
          },
          "metadata": {},
          "execution_count": 801
        }
      ]
    },
    {
      "cell_type": "markdown",
      "metadata": {
        "id": "emiQZHueY7l7"
      },
      "source": [
        "### Recall"
      ]
    },
    {
      "cell_type": "code",
      "metadata": {
        "colab": {
          "base_uri": "https://localhost:8080/"
        },
        "id": "YVOo_RyDY800",
        "outputId": "1ed2e495-fc51-4a7d-d88e-cee9c2c10c09"
      },
      "source": [
        "from sklearn.metrics import recall_score\n",
        "\n",
        "recall_score(y, y_pred, average=\"macro\")"
      ],
      "execution_count": null,
      "outputs": [
        {
          "output_type": "execute_result",
          "data": {
            "text/plain": [
              "0.9861111111111112"
            ]
          },
          "metadata": {},
          "execution_count": 802
        }
      ]
    },
    {
      "cell_type": "markdown",
      "metadata": {
        "id": "AFujJnLlZQwt"
      },
      "source": [
        "### F1 Score"
      ]
    },
    {
      "cell_type": "code",
      "metadata": {
        "colab": {
          "base_uri": "https://localhost:8080/"
        },
        "id": "yl3xl4gYZSFi",
        "outputId": "b567557e-88c0-4c39-f282-6d4f11c4a576"
      },
      "source": [
        "from sklearn.metrics import f1_score\n",
        "\n",
        "f1_score(y, y_pred, average=\"macro\")"
      ],
      "execution_count": null,
      "outputs": [
        {
          "output_type": "execute_result",
          "data": {
            "text/plain": [
              "0.9866184932423391"
            ]
          },
          "metadata": {},
          "execution_count": 803
        }
      ]
    },
    {
      "cell_type": "markdown",
      "metadata": {
        "id": "K3ErfZmNdE54"
      },
      "source": [
        "## Training and Testing"
      ]
    },
    {
      "cell_type": "markdown",
      "metadata": {
        "id": "RxkEAn5Gh7N-"
      },
      "source": [
        "### Building"
      ]
    },
    {
      "cell_type": "code",
      "metadata": {
        "id": "YLw3bN2udO0k",
        "colab": {
          "base_uri": "https://localhost:8080/",
          "height": 235
        },
        "outputId": "77923c8d-805f-4553-fe71-9a4eb12a4fd8"
      },
      "source": [
        "# Splitting the dataset\n",
        "\n",
        "#Train-Test Set 1\n",
        "x_train, x_test, y_train, y_test = train_test_split(x, y, test_size=1/3, random_state=42, stratify=y)\n",
        "\n",
        "#Train-Test Set 2 (+30%)\n",
        "#x_train, x_test, y_train, y_test = train_test_split(x, y, test_size=8/25, random_state=42, stratify=y)\n",
        "\n",
        "#Train-Test Set 3 (+60%)\n",
        "#x_train, x_test, y_train, y_test = train_test_split(x, y, test_size=39/100, random_state=42, stratify=y)"
      ],
      "execution_count": null,
      "outputs": [
        {
          "output_type": "error",
          "ename": "NameError",
          "evalue": "ignored",
          "traceback": [
            "\u001b[0;31m---------------------------------------------------------------------------\u001b[0m",
            "\u001b[0;31mNameError\u001b[0m                                 Traceback (most recent call last)",
            "\u001b[0;32m<ipython-input-1-b6f710686756>\u001b[0m in \u001b[0;36m<module>\u001b[0;34m()\u001b[0m\n\u001b[1;32m      2\u001b[0m \u001b[0;34m\u001b[0m\u001b[0m\n\u001b[1;32m      3\u001b[0m \u001b[0;31m#Train-Test Set 1\u001b[0m\u001b[0;34m\u001b[0m\u001b[0;34m\u001b[0m\u001b[0;34m\u001b[0m\u001b[0m\n\u001b[0;32m----> 4\u001b[0;31m \u001b[0mx_train\u001b[0m\u001b[0;34m,\u001b[0m \u001b[0mx_test\u001b[0m\u001b[0;34m,\u001b[0m \u001b[0my_train\u001b[0m\u001b[0;34m,\u001b[0m \u001b[0my_test\u001b[0m \u001b[0;34m=\u001b[0m \u001b[0mtrain_test_split\u001b[0m\u001b[0;34m(\u001b[0m\u001b[0mx\u001b[0m\u001b[0;34m,\u001b[0m \u001b[0my\u001b[0m\u001b[0;34m,\u001b[0m \u001b[0mtest_size\u001b[0m\u001b[0;34m=\u001b[0m\u001b[0;36m1\u001b[0m\u001b[0;34m/\u001b[0m\u001b[0;36m3\u001b[0m\u001b[0;34m,\u001b[0m \u001b[0mrandom_state\u001b[0m\u001b[0;34m=\u001b[0m\u001b[0;36m42\u001b[0m\u001b[0;34m,\u001b[0m \u001b[0mstratify\u001b[0m\u001b[0;34m=\u001b[0m\u001b[0my\u001b[0m\u001b[0;34m)\u001b[0m\u001b[0;34m\u001b[0m\u001b[0;34m\u001b[0m\u001b[0m\n\u001b[0m\u001b[1;32m      5\u001b[0m \u001b[0;34m\u001b[0m\u001b[0m\n\u001b[1;32m      6\u001b[0m \u001b[0;31m#Train-Test Set 2 (+30%)\u001b[0m\u001b[0;34m\u001b[0m\u001b[0;34m\u001b[0m\u001b[0;34m\u001b[0m\u001b[0m\n",
            "\u001b[0;31mNameError\u001b[0m: name 'train_test_split' is not defined"
          ]
        }
      ]
    },
    {
      "cell_type": "code",
      "metadata": {
        "id": "n1norPZKhxhT"
      },
      "source": [
        "#training_classifier = DecisionTreeClassifier(max_depth=2, random_state=42)\n",
        "training_classifier.fit(x_train, y_train)"
      ],
      "execution_count": null,
      "outputs": []
    },
    {
      "cell_type": "code",
      "metadata": {
        "id": "h6kCWXt7iHU4"
      },
      "source": [
        "plot_tree(training_classifier);"
      ],
      "execution_count": null,
      "outputs": []
    },
    {
      "cell_type": "markdown",
      "metadata": {
        "id": "YGHI9wRciNfx"
      },
      "source": [
        "### Plotting"
      ]
    },
    {
      "cell_type": "code",
      "metadata": {
        "colab": {
          "base_uri": "https://localhost:8080/",
          "height": 342
        },
        "id": "hbnYfwDYiPmW",
        "outputId": "88691ea3-18e9-469e-f902-8bcc947f403f"
      },
      "source": [
        "from matplotlib.colors import ListedColormap\n",
        "\n",
        "def plot_decision_boundary(clf, x, y, axes=[0, 7.5, 0, 3], iris=True, legend=False, plot_training=True):\n",
        "    x1s = np.linspace(axes[0], axes[1], 100)\n",
        "    x2s = np.linspace(axes[2], axes[3], 100)\n",
        "   \n",
        "    x1, x2 = np.meshgrid(x1s, x2s)\n",
        "\n",
        "    X_new = np.c_[x1.ravel(), x2.ravel()]\n",
        "    y_pred = clf.predict(X_new).reshape(x1.shape)\n",
        "\n",
        "    custom_cmap = ListedColormap(['#fafab0','#9898ff','#a0faa0'])\n",
        "    plt.contourf(x1, x2, y_pred, alpha=0.3, cmap=custom_cmap)\n",
        "    if not iris:\n",
        "        custom_cmap2 = ListedColormap(['#7d7d58','#4c4c7f','#507d50'])\n",
        "        plt.contour(x1, x2, y_pred, cmap=custom_cmap2, alpha=0.8)\n",
        "    if plot_training:\n",
        "        p0 = df[df['cluster'] == 0]\n",
        "        p1 = df[df['cluster'] == 1]\n",
        "        p2 = df[df['cluster'] == 2]\n",
        "\n",
        "        plt.plot(p0.petal_length, p0.petal_width, \"yo\", label='Iris-virginica')\n",
        "        plt.plot(p1.petal_length, p1.petal_width, \"bs\", label='Iris-setosa')\n",
        "        plt.plot(p2.petal_length, p2.petal_width, \"g^\", label='Iris-versicolor')\n",
        "\n",
        "        plt.axis(axes)\n",
        "    if iris:\n",
        "        plt.xlabel(\"Petal length\", fontsize=14)\n",
        "        plt.ylabel(\"Petal width\", fontsize=14)\n",
        "    else:\n",
        "        plt.xlabel(r\"$x_1$\", fontsize=18)\n",
        "        plt.ylabel(r\"$x_2$\", fontsize=18, rotation=0)\n",
        "    if legend:\n",
        "        plt.legend(loc=\"lower right\", fontsize=14)\n",
        "\n",
        "plt.figure(figsize=(8, 4))\n",
        "plot_decision_boundary(training_classifier, x_test, y_test)\n",
        "plt.plot([2.45, 2.45], [0, 3], \"k-\", linewidth=2)\n",
        "plt.plot([2.45, 7.5], [1.75, 1.75], \"k--\", linewidth=2)\n",
        "plt.plot([4.95, 4.95], [0, 1.75], \"k:\", linewidth=2)\n",
        "plt.plot([4.85, 4.85], [1.75, 3], \"k:\", linewidth=2)\n",
        "plt.text(1.40, 1.0, \"Depth=0\", fontsize=15)\n",
        "plt.text(3.2, 1.80, \"Depth=1\", fontsize=13)\n",
        "plt.text(4.05, 0.5, \"(Depth=2)\", fontsize=11)\n",
        "\n",
        "plt.show()"
      ],
      "execution_count": null,
      "outputs": [
        {
          "output_type": "stream",
          "name": "stderr",
          "text": [
            "/usr/local/lib/python3.7/dist-packages/sklearn/base.py:446: UserWarning: X does not have valid feature names, but DecisionTreeClassifier was fitted with feature names\n",
            "  \"X does not have valid feature names, but\"\n"
          ]
        },
        {
          "output_type": "display_data",
          "data": {
            "image/png": "[encoded data removed]",
            "text/plain": [
              "<Figure size 576x288 with 1 Axes>"
            ]
          },
          "metadata": {
            "needs_background": "light"
          }
        }
      ]
    },
    {
      "cell_type": "markdown",
      "metadata": {
        "id": "47bpnwJiihHm"
      },
      "source": [
        "### Performance Measures"
      ]
    },
    {
      "cell_type": "code",
      "metadata": {
        "id": "OZjx08rXa3BT"
      },
      "source": [
        "# Creating predicitons\n",
        "y_pred = training_classifier.predict(x_test)\n",
        "y_train_pred = training_classifier.predict(x_train)"
      ],
      "execution_count": null,
      "outputs": []
    },
    {
      "cell_type": "code",
      "metadata": {
        "colab": {
          "base_uri": "https://localhost:8080/"
        },
        "id": "XMMVSBXgiloH",
        "outputId": "6c1b0e6e-84e3-4800-e84d-3b3e2de3978e"
      },
      "source": [
        "# Accuracy\n",
        "from sklearn.metrics import accuracy_score\n",
        "print(\"Train: \")\n",
        "print(accuracy_score(y_train, y_train_pred))\n",
        "print(\"Test: \")\n",
        "print(accuracy_score(y_test, y_pred))"
      ],
      "execution_count": null,
      "outputs": [
        {
          "output_type": "stream",
          "name": "stdout",
          "text": [
            "Train: \n",
            "0.99\n",
            "Test: \n",
            "0.98\n"
          ]
        }
      ]
    },
    {
      "cell_type": "code",
      "metadata": {
        "colab": {
          "base_uri": "https://localhost:8080/"
        },
        "id": "qkVQOfoZlTj-",
        "outputId": "d4ef0040-dfe4-45f6-e79d-aa854a2f86a9"
      },
      "source": [
        "# Confusion Matrix\n",
        "from sklearn.metrics import confusion_matrix\n",
        "\n",
        "print(\"Train: \")\n",
        "print(confusion_matrix(y_train, y_train_pred))\n",
        "print(\"Test: \")\n",
        "print(confusion_matrix(y_test, y_pred))"
      ],
      "execution_count": null,
      "outputs": [
        {
          "output_type": "stream",
          "name": "stdout",
          "text": [
            "Train: \n",
            "[[31  0  1]\n",
            " [ 0 33  0]\n",
            " [ 0  0 35]]\n",
            "Test: \n",
            "[[15  0  1]\n",
            " [ 0 17  0]\n",
            " [ 0  0 17]]\n"
          ]
        }
      ]
    },
    {
      "cell_type": "code",
      "metadata": {
        "colab": {
          "base_uri": "https://localhost:8080/"
        },
        "id": "mCwFwxuYlWCL",
        "outputId": "ad8541e3-eca8-4c0e-a47b-73a8d649c304"
      },
      "source": [
        "# Precision\n",
        "from sklearn.metrics import precision_score\n",
        "\n",
        "print(\"Train: \")\n",
        "print(precision_score(y_train, y_train_pred, average=\"macro\"))\n",
        "print(\"Test: \")\n",
        "print(precision_score(y_test, y_pred, average=\"macro\"))"
      ],
      "execution_count": null,
      "outputs": [
        {
          "output_type": "stream",
          "name": "stdout",
          "text": [
            "Train: \n",
            "0.9907407407407408\n",
            "Test: \n",
            "0.9814814814814815\n"
          ]
        }
      ]
    },
    {
      "cell_type": "code",
      "metadata": {
        "colab": {
          "base_uri": "https://localhost:8080/"
        },
        "id": "f8exdWVLlXz1",
        "outputId": "cadde5ff-5e5f-4274-87d5-fc81da5a1db3"
      },
      "source": [
        "# Recall\n",
        "from sklearn.metrics import recall_score\n",
        "\n",
        "print(\"Train: \")\n",
        "print(recall_score(y_train, y_train_pred, average=\"macro\"))\n",
        "print(\"Test:\")\n",
        "print(recall_score(y_test, y_pred, average=\"macro\"))"
      ],
      "execution_count": null,
      "outputs": [
        {
          "output_type": "stream",
          "name": "stdout",
          "text": [
            "Train: \n",
            "0.9895833333333334\n",
            "Test:\n",
            "0.9791666666666666\n"
          ]
        }
      ]
    },
    {
      "cell_type": "code",
      "metadata": {
        "colab": {
          "base_uri": "https://localhost:8080/"
        },
        "id": "-nomT7eWlZR5",
        "outputId": "7983df35-7fab-4d57-eec3-e73a83502fad"
      },
      "source": [
        "# F1 Score\n",
        "from sklearn.metrics import f1_score\n",
        "\n",
        "print(\"Train: \")\n",
        "print(f1_score(y_train, y_train_pred, average=\"macro\"))\n",
        "print(\"Test: \")\n",
        "print(f1_score(y_test, y_pred, average=\"macro\"))"
      ],
      "execution_count": null,
      "outputs": [
        {
          "output_type": "stream",
          "name": "stdout",
          "text": [
            "Train: \n",
            "0.9900141590282435\n",
            "Test: \n",
            "0.9797235023041475\n"
          ]
        }
      ]
    },
    {
      "cell_type": "code",
      "metadata": {
        "id": "yQWy07mORUvS"
      },
      "source": [
        ""
      ],
      "execution_count": null,
      "outputs": []
    },
    {
      "cell_type": "code",
      "metadata": {
        "id": "cq-ZJMzbd2hb"
      },
      "source": [
        "# imports\n",
        "from __future__ import print_function\n",
        "from IPython.display import clear_output\n",
        "from sklearn.model_selection import train_test_split\n",
        "from tqdm import trange\n",
        "import numpy as np\n",
        "import pandas as pd\n",
        "import matplotlib.pyplot as plt\n",
        "import sys\n",
        "\n",
        "import tensorflow as tf\n",
        "from tensorflow.keras import datasets, layers, models\n",
        "\n",
        "from keras.utils.np_utils import to_categorical\n",
        "from keras.models import Sequential\n",
        "from keras.layers import Dense, Dropout, Flatten, Conv2D, MaxPool2D\n",
        "from tensorflow.keras.optimizers import RMSprop\n",
        "from keras.preprocessing.image import ImageDataGenerator\n",
        "from keras.callbacks import ReduceLROnPlateau\n",
        "\n",
        "# from keras.datasets import fashion_mnist as fashion_mnist"
      ],
      "execution_count": null,
      "outputs": []
    },
    {
      "cell_type": "markdown",
      "metadata": {
        "id": "0FCT9Qzti3Yl"
      },
      "source": [
        "# Kuzushiji-MNIST Dataset"
      ]
    },
    {
      "cell_type": "code",
      "metadata": {
        "id": "vvU-OOxFjsl_"
      },
      "source": [
        "# Setting Data Dimensions\n",
        "img_h = img_w = 28             # Kuzushiji-MNIST images are 28x28\n",
        "img_size_flat = img_h * img_w  # 28x28=784, the total number of pixels\n",
        "n_classes = 10                 # Number of classes, one class per digit"
      ],
      "execution_count": null,
      "outputs": []
    },
    {
      "cell_type": "code",
      "metadata": {
        "id": "xnU7lMwgj1m4"
      },
      "source": [
        "# Loading data\n",
        "x_train = np.load(\"kmnist-train-imgs.npz\")['arr_0']\n",
        "y_train = np.load(\"kmnist-train-labels.npz\")['arr_0']\n",
        "x_test = np.load(\"kmnist-test-imgs.npz\")['arr_0']\n",
        "y_test = np.load(\"kmnist-test-labels.npz\")['arr_0']"
      ],
      "execution_count": null,
      "outputs": []
    },
    {
      "cell_type": "code",
      "metadata": {
        "id": "FHMVxxe3v5t2",
        "colab": {
          "base_uri": "https://localhost:8080/",
          "height": 711
        },
        "outputId": "ef392d9d-7a62-4bcc-b6a6-fd6510b28521"
      },
      "source": [
        "# Visualise Data Samples\n",
        "fig, axes = plt.subplots(4,5, figsize=(12, 10))\n",
        "axes = axes.reshape(-1)\n",
        "\n",
        "for i in range(20):\n",
        "    axes[i].axis('off') # hide the axes ticks\n",
        "    axes[i].imshow(x_train[i,:,:], cmap = 'gray')\n",
        "    axes[i].set_title(str(y_train[i]), color= 'black', fontsize=15)\n",
        "plt.show()"
      ],
      "execution_count": null,
      "outputs": [
        {
          "output_type": "stream",
          "name": "stderr",
          "text": [
            "Exception ignored in: <function NpzFile.__del__ at 0x7fcbca943710>\n",
            "Traceback (most recent call last):\n",
            "  File \"/usr/local/lib/python3.7/dist-packages/numpy/lib/npyio.py\", line 223, in __del__\n",
            "    self.close()\n",
            "  File \"/usr/local/lib/python3.7/dist-packages/numpy/lib/npyio.py\", line 214, in close\n",
            "    if self.zip is not None:\n",
            "AttributeError: 'NpzFile' object has no attribute 'zip'\n"
          ]
        },
        {
          "output_type": "display_data",
          "data": {
            "image/png": "[encoded data removed]",
            "text/plain": [
              "<Figure size 864x720 with 20 Axes>"
            ]
          },
          "metadata": {
            "needs_background": "light"
          }
        }
      ]
    },
    {
      "cell_type": "code",
      "metadata": {
        "id": "gnbhOz5CyB97",
        "colab": {
          "base_uri": "https://localhost:8080/"
        },
        "outputId": "60c7bd04-9b90-48f2-e4e0-642832311eb3"
      },
      "source": [
        "# Flatten images\n",
        "X_train = np.reshape(x_train, (-1, 784))\n",
        "X_test = np.reshape(x_test, (-1, 784))\n",
        "print(\"X_TRAIN: \", X_train.shape)\n",
        "print(\"X_TEST: \", X_test.shape)"
      ],
      "execution_count": null,
      "outputs": [
        {
          "output_type": "stream",
          "name": "stdout",
          "text": [
            "X_TRAIN:  (60000, 784)\n",
            "X_TEST:  (10000, 784)\n"
          ]
        }
      ]
    },
    {
      "cell_type": "code",
      "metadata": {
        "id": "rNOJIWoyyXzx",
        "colab": {
          "base_uri": "https://localhost:8080/"
        },
        "outputId": "f3dcf583-c217-4185-c02e-843b008db7c4"
      },
      "source": [
        "from sklearn.linear_model import LogisticRegression\n",
        "kmnist_clf = LogisticRegression(solver='lbfgs', tol= 1e-5, max_iter = 100, multi_class='multinomial')\n",
        "kmnist_clf.fit(X_train, y_train)\n",
        "kmnist_clf.score(X_test, y_test)"
      ],
      "execution_count": null,
      "outputs": [
        {
          "output_type": "stream",
          "name": "stderr",
          "text": [
            "/usr/local/lib/python3.7/dist-packages/sklearn/linear_model/_logistic.py:818: ConvergenceWarning: lbfgs failed to converge (status=1):\n",
            "STOP: TOTAL NO. of ITERATIONS REACHED LIMIT.\n",
            "\n",
            "Increase the number of iterations (max_iter) or scale the data as shown in:\n",
            "    https://scikit-learn.org/stable/modules/preprocessing.html\n",
            "Please also refer to the documentation for alternative solver options:\n",
            "    https://scikit-learn.org/stable/modules/linear_model.html#logistic-regression\n",
            "  extra_warning_msg=_LOGISTIC_SOLVER_CONVERGENCE_MSG,\n"
          ]
        },
        {
          "output_type": "execute_result",
          "data": {
            "text/plain": [
              "0.6911"
            ]
          },
          "metadata": {},
          "execution_count": 25
        }
      ]
    },
    {
      "cell_type": "code",
      "metadata": {
        "id": "2m8VhzWY1Vdi",
        "colab": {
          "base_uri": "https://localhost:8080/"
        },
        "outputId": "56b4967d-511f-424f-8fb4-3e7c36f4a9f7"
      },
      "source": [
        "from sklearn.model_selection import cross_val_score\n",
        "cross_val_score(kmnist_clf, X_train, y_train, cv=10, scoring=\"accuracy\")"
      ],
      "execution_count": null,
      "outputs": [
        {
          "output_type": "stream",
          "name": "stderr",
          "text": [
            "/usr/local/lib/python3.7/dist-packages/sklearn/linear_model/_logistic.py:818: ConvergenceWarning: lbfgs failed to converge (status=1):\n",
            "STOP: TOTAL NO. of ITERATIONS REACHED LIMIT.\n",
            "\n",
            "Increase the number of iterations (max_iter) or scale the data as shown in:\n",
            "    https://scikit-learn.org/stable/modules/preprocessing.html\n",
            "Please also refer to the documentation for alternative solver options:\n",
            "    https://scikit-learn.org/stable/modules/linear_model.html#logistic-regression\n",
            "  extra_warning_msg=_LOGISTIC_SOLVER_CONVERGENCE_MSG,\n",
            "/usr/local/lib/python3.7/dist-packages/sklearn/linear_model/_logistic.py:818: ConvergenceWarning: lbfgs failed to converge (status=1):\n",
            "STOP: TOTAL NO. of ITERATIONS REACHED LIMIT.\n",
            "\n",
            "Increase the number of iterations (max_iter) or scale the data as shown in:\n",
            "    https://scikit-learn.org/stable/modules/preprocessing.html\n",
            "Please also refer to the documentation for alternative solver options:\n",
            "    https://scikit-learn.org/stable/modules/linear_model.html#logistic-regression\n",
            "  extra_warning_msg=_LOGISTIC_SOLVER_CONVERGENCE_MSG,\n",
            "/usr/local/lib/python3.7/dist-packages/sklearn/linear_model/_logistic.py:818: ConvergenceWarning: lbfgs failed to converge (status=1):\n",
            "STOP: TOTAL NO. of ITERATIONS REACHED LIMIT.\n",
            "\n",
            "Increase the number of iterations (max_iter) or scale the data as shown in:\n",
            "    https://scikit-learn.org/stable/modules/preprocessing.html\n",
            "Please also refer to the documentation for alternative solver options:\n",
            "    https://scikit-learn.org/stable/modules/linear_model.html#logistic-regression\n",
            "  extra_warning_msg=_LOGISTIC_SOLVER_CONVERGENCE_MSG,\n",
            "/usr/local/lib/python3.7/dist-packages/sklearn/linear_model/_logistic.py:818: ConvergenceWarning: lbfgs failed to converge (status=1):\n",
            "STOP: TOTAL NO. of ITERATIONS REACHED LIMIT.\n",
            "\n",
            "Increase the number of iterations (max_iter) or scale the data as shown in:\n",
            "    https://scikit-learn.org/stable/modules/preprocessing.html\n",
            "Please also refer to the documentation for alternative solver options:\n",
            "    https://scikit-learn.org/stable/modules/linear_model.html#logistic-regression\n",
            "  extra_warning_msg=_LOGISTIC_SOLVER_CONVERGENCE_MSG,\n",
            "/usr/local/lib/python3.7/dist-packages/sklearn/linear_model/_logistic.py:818: ConvergenceWarning: lbfgs failed to converge (status=1):\n",
            "STOP: TOTAL NO. of ITERATIONS REACHED LIMIT.\n",
            "\n",
            "Increase the number of iterations (max_iter) or scale the data as shown in:\n",
            "    https://scikit-learn.org/stable/modules/preprocessing.html\n",
            "Please also refer to the documentation for alternative solver options:\n",
            "    https://scikit-learn.org/stable/modules/linear_model.html#logistic-regression\n",
            "  extra_warning_msg=_LOGISTIC_SOLVER_CONVERGENCE_MSG,\n",
            "/usr/local/lib/python3.7/dist-packages/sklearn/linear_model/_logistic.py:818: ConvergenceWarning: lbfgs failed to converge (status=1):\n",
            "STOP: TOTAL NO. of ITERATIONS REACHED LIMIT.\n",
            "\n",
            "Increase the number of iterations (max_iter) or scale the data as shown in:\n",
            "    https://scikit-learn.org/stable/modules/preprocessing.html\n",
            "Please also refer to the documentation for alternative solver options:\n",
            "    https://scikit-learn.org/stable/modules/linear_model.html#logistic-regression\n",
            "  extra_warning_msg=_LOGISTIC_SOLVER_CONVERGENCE_MSG,\n",
            "/usr/local/lib/python3.7/dist-packages/sklearn/linear_model/_logistic.py:818: ConvergenceWarning: lbfgs failed to converge (status=1):\n",
            "STOP: TOTAL NO. of ITERATIONS REACHED LIMIT.\n",
            "\n",
            "Increase the number of iterations (max_iter) or scale the data as shown in:\n",
            "    https://scikit-learn.org/stable/modules/preprocessing.html\n",
            "Please also refer to the documentation for alternative solver options:\n",
            "    https://scikit-learn.org/stable/modules/linear_model.html#logistic-regression\n",
            "  extra_warning_msg=_LOGISTIC_SOLVER_CONVERGENCE_MSG,\n",
            "/usr/local/lib/python3.7/dist-packages/sklearn/linear_model/_logistic.py:818: ConvergenceWarning: lbfgs failed to converge (status=1):\n",
            "STOP: TOTAL NO. of ITERATIONS REACHED LIMIT.\n",
            "\n",
            "Increase the number of iterations (max_iter) or scale the data as shown in:\n",
            "    https://scikit-learn.org/stable/modules/preprocessing.html\n",
            "Please also refer to the documentation for alternative solver options:\n",
            "    https://scikit-learn.org/stable/modules/linear_model.html#logistic-regression\n",
            "  extra_warning_msg=_LOGISTIC_SOLVER_CONVERGENCE_MSG,\n",
            "/usr/local/lib/python3.7/dist-packages/sklearn/linear_model/_logistic.py:818: ConvergenceWarning: lbfgs failed to converge (status=1):\n",
            "STOP: TOTAL NO. of ITERATIONS REACHED LIMIT.\n",
            "\n",
            "Increase the number of iterations (max_iter) or scale the data as shown in:\n",
            "    https://scikit-learn.org/stable/modules/preprocessing.html\n",
            "Please also refer to the documentation for alternative solver options:\n",
            "    https://scikit-learn.org/stable/modules/linear_model.html#logistic-regression\n",
            "  extra_warning_msg=_LOGISTIC_SOLVER_CONVERGENCE_MSG,\n",
            "/usr/local/lib/python3.7/dist-packages/sklearn/linear_model/_logistic.py:818: ConvergenceWarning: lbfgs failed to converge (status=1):\n",
            "STOP: TOTAL NO. of ITERATIONS REACHED LIMIT.\n",
            "\n",
            "Increase the number of iterations (max_iter) or scale the data as shown in:\n",
            "    https://scikit-learn.org/stable/modules/preprocessing.html\n",
            "Please also refer to the documentation for alternative solver options:\n",
            "    https://scikit-learn.org/stable/modules/linear_model.html#logistic-regression\n",
            "  extra_warning_msg=_LOGISTIC_SOLVER_CONVERGENCE_MSG,\n"
          ]
        },
        {
          "output_type": "execute_result",
          "data": {
            "text/plain": [
              "array([0.8085    , 0.81983333, 0.81033333, 0.8125    , 0.81383333,\n",
              "       0.80383333, 0.818     , 0.8165    , 0.81033333, 0.80433333])"
            ]
          },
          "metadata": {},
          "execution_count": 26
        }
      ]
    },
    {
      "cell_type": "code",
      "metadata": {
        "id": "uLzh6rRPHudV",
        "colab": {
          "base_uri": "https://localhost:8080/"
        },
        "outputId": "5513ab70-e688-4cc8-fb62-a1c7200aef09"
      },
      "source": [
        "print(\"X_train: \", X_train)\n",
        "print(\"Y_train: \", y_train)"
      ],
      "execution_count": null,
      "outputs": [
        {
          "output_type": "stream",
          "name": "stdout",
          "text": [
            "X_train:  [[0 0 0 ... 0 0 0]\n",
            " [0 0 0 ... 0 0 0]\n",
            " [0 0 0 ... 0 0 0]\n",
            " ...\n",
            " [0 0 0 ... 0 0 0]\n",
            " [0 0 0 ... 0 0 0]\n",
            " [0 0 0 ... 0 0 0]]\n",
            "Y_train:  [8 7 0 ... 0 4 9]\n"
          ]
        }
      ]
    },
    {
      "cell_type": "code",
      "metadata": {
        "id": "ORC9gWihP7WR"
      },
      "source": [
        "# Initial Setup\n",
        "\n",
        "np.random.seed(42)\n",
        "\n",
        "X_train, X_val = X_train[:-1000], X_train[-1000:]\n",
        "y_train, y_val = y_train[:-1000], y_train[-1000:]"
      ],
      "execution_count": null,
      "outputs": []
    },
    {
      "cell_type": "code",
      "metadata": {
        "id": "WRSKgOLnSe56"
      },
      "source": [
        "# Action Functions\n",
        "\n",
        "def forward(network, X):\n",
        "    # Compute activations of all network layers by applying them sequentially.\n",
        "    # Return a list of activations for each layer.\n",
        "\n",
        "    activations = []\n",
        "    input = X\n",
        "    # Looping through each layer\n",
        "    for l in network:\n",
        "        activations.append(l.forward(input))\n",
        "        # Updating input to last layer output\n",
        "        input = activations[-1]\n",
        "\n",
        "    assert len(activations) == len(network)\n",
        "    return activations\n",
        "\n",
        "\n",
        "def predict(network, X):\n",
        "    # Compute network predictions. Returning indices of largest Logit probability\n",
        "    logits = forward(network, X)[-1]\n",
        "    return logits.argmax(axis=-1)\n",
        "\n",
        "\n",
        "def train(network, X, y):\n",
        "    # Train our network on a given batch of X and y.\n",
        "    # We first need to run forward to get all layer activations.\n",
        "    # Then we can run layer.backward going from last to first layer.\n",
        "    # After we have called backward for all layers, all Dense layers have already made one gradient step.\n",
        "\n",
        "    # Get the layer activations\n",
        "    layer_activations = forward(network, X)\n",
        "    layer_inputs = [X] + layer_activations  # layer_input[i] is an input for network[i]\n",
        "    logits = layer_activations[-1]\n",
        "\n",
        "    # Compute the loss and the initial gradient\n",
        "    if l_func == 1:\n",
        "        loss = softmax_crossentropy_with_logits(logits, y)\n",
        "        loss_grad = grad_softmax_crossentropy_with_logits(logits, y)\n",
        "    elif l_func == 2:\n",
        "        loss = loss_mean_squared(logits, y)\n",
        "        loss_grad = grad_loss_mean_squared(logits, y)\n",
        "\n",
        "    # Propagate gradients through the network\n",
        "    # Reverse propogation as this is backprop\n",
        "    for layer_index in range(len(network))[::-1]:\n",
        "        layer = network[layer_index]\n",
        "\n",
        "        loss_grad = layer.backward(layer_inputs[layer_index], loss_grad)\n",
        "\n",
        "    return np.mean(loss)\n",
        "\n",
        "def iterate_minibatches(inputs, targets, batchsize, shuffle=False):\n",
        "    assert len(inputs) == len(targets)\n",
        "    if shuffle:\n",
        "        indices = np.random.permutation(len(inputs))\n",
        "    for start_idx in trange(0, len(inputs) - batchsize + 1, batchsize):\n",
        "        if shuffle:\n",
        "            excerpt = indices[start_idx:start_idx + batchsize]\n",
        "        else:\n",
        "            excerpt = slice(start_idx, start_idx + batchsize)\n",
        "        yield inputs[excerpt], targets[excerpt]"
      ],
      "execution_count": null,
      "outputs": []
    },
    {
      "cell_type": "code",
      "metadata": {
        "id": "aOZOSBLYRPyA"
      },
      "source": [
        "# Loss Functions\n",
        "def softmax_crossentropy_with_logits(logits, reference_answers):\n",
        "    # Compute crossentropy from logits[batch,n_classes] and ids of correct answers\n",
        "    logits_for_answers = logits[np.arange(len(logits)), reference_answers]\n",
        "\n",
        "    xentropy = - logits_for_answers + np.log(np.sum(np.exp(logits), axis=-1))\n",
        "\n",
        "    return xentropy\n",
        "\n",
        "def grad_softmax_crossentropy_with_logits(logits, reference_answers):\n",
        "    # Compute crossentropy gradient from logits[batch,n_classes] and ids of correct answers\n",
        "    ones_for_answers = np.zeros_like(logits)\n",
        "    ones_for_answers[np.arange(len(logits)), reference_answers] = 1\n",
        "\n",
        "    softmax = np.exp(logits) / np.exp(logits).sum(axis=-1, keepdims=True)\n",
        "\n",
        "    return (- ones_for_answers + softmax) / logits.shape[0]\n",
        "\n",
        "def loss_mean_squared(logits, reference_answers):\n",
        "    # Compute mean-squared loss from logits[batch,n_classes] and ids of correct answers\n",
        "    logits_for_answers = logits[np.arange(len(logits)), reference_answers]\n",
        "\n",
        "    return 0.5*(logits.shape[0]-logits_for_answers)**2\n",
        "\n",
        "def grad_loss_mean_squared(logits, reference_answers):\n",
        "    # Compute mean-squared loss gradient from logits[batch,n_classes] and ids of correct answers\n",
        "    ones_for_answers = np.zeros_like(logits)\n",
        "    ones_for_answers[np.arange(len(logits)), reference_answers] = 1\n",
        "\n",
        "    return -1*(logits.shape[0]-ones_for_answers)"
      ],
      "execution_count": null,
      "outputs": []
    },
    {
      "cell_type": "code",
      "metadata": {
        "id": "e10zNtYnRgES"
      },
      "source": [
        "# Classes/ Activation Functions\n",
        "class Layer:\n",
        "    def __init__(self):\n",
        "        pass\n",
        "\n",
        "    def forward(self, input):\n",
        "        return input\n",
        "\n",
        "    def backward(self, input, grad_output):\n",
        "        num_units = input.shape[1]\n",
        "        d_layer_d_input = np.eye(num_units)\n",
        "        return np.dot(grad_output, d_layer_d_input)\n",
        "\n",
        "\n",
        "class ReLU(Layer):\n",
        "    def __init__(self):\n",
        "        pass\n",
        "\n",
        "    def forward(self, input):\n",
        "        relu_forward = np.maximum(0, input)\n",
        "        return relu_forward\n",
        "\n",
        "    def backward(self, input, grad_output):\n",
        "        relu_grad = input > 0\n",
        "        return grad_output * relu_grad\n",
        "\n",
        "class Logistic(Layer):\n",
        "    def __init__(self):\n",
        "        pass\n",
        "\n",
        "    def forward(self, input):\n",
        "        log_forward = 1.0/(1 + np.exp(-input))\n",
        "        return log_forward\n",
        "\n",
        "    def backward(self, input, grad_output):\n",
        "        log_grad = self.forward(input) * (1 - self.forward(input))\n",
        "        return grad_output * log_grad\n",
        "\n",
        "class HyperbolicTan(Layer):\n",
        "    def __init__(self):\n",
        "        pass\n",
        "\n",
        "    def forward(self, input):\n",
        "        hyper_forward = np.tanh(input)\n",
        "        return hyper_forward\n",
        "\n",
        "    def backward(self, input, grad_output):\n",
        "        hyper_grad = 1-(self.forward(input))**2\n",
        "        return grad_output * hyper_grad"
      ],
      "execution_count": null,
      "outputs": []
    },
    {
      "cell_type": "code",
      "metadata": {
        "id": "ESb3b6VNk1gD"
      },
      "source": [
        "#Default variables\n",
        "h_layers = 2\n",
        "h_neurons = [5, 10]\n",
        "a_func = 2\n",
        "l_rate = 0.1\n",
        "e = 9\n",
        "l_func = 1\n",
        "Afunc = ReLU()\n",
        "network = []"
      ],
      "execution_count": null,
      "outputs": []
    },
    {
      "cell_type": "code",
      "metadata": {
        "id": "jYtEpFp9Rt-p"
      },
      "source": [
        "# Dense Class\n",
        "class Dense(Layer):\n",
        "    def __init__(self, input_units, output_units, learning_rate=l_rate):\n",
        "        # A layer which performs a transformation:\n",
        "        # f(x) = <W*x> + b\n",
        "\n",
        "        self.learning_rate = learning_rate\n",
        "        self.weights = np.random.normal(loc=0.0,\n",
        "                                        scale=np.sqrt(2 / (input_units + output_units)),\n",
        "                                        size=(input_units, output_units))\n",
        "        self.biases = np.zeros(output_units)\n",
        "\n",
        "    def forward(self, input):\n",
        "        # Perform a transformation:\n",
        "        # f(x) = <W*x> + b\n",
        "\n",
        "        # input shape: [batch, input_units]\n",
        "        # output shape: [batch, output units]\n",
        "        return np.dot(input, self.weights) + self.biases\n",
        "\n",
        "    def backward(self, input, grad_output):\n",
        "        # compute d f / d x = d f / d dense * d dense / d x\n",
        "        # where d dense/ d x = weights transposed\n",
        "        grad_input = np.dot(grad_output, self.weights.T)\n",
        "\n",
        "        # compute gradient w.r.t. weights and biases\n",
        "        grad_weights = np.dot(input.T, grad_output)\n",
        "        grad_biases = grad_output.mean(axis=0) * input.shape[0]\n",
        "\n",
        "        assert grad_weights.shape == self.weights.shape and grad_biases.shape == self.biases.shape\n",
        "\n",
        "        # Here we perform a stochastic gradient descent step.\n",
        "        self.weights = self.weights - self.learning_rate * grad_weights\n",
        "        self.biases = self.biases - self.learning_rate * grad_biases\n",
        "\n",
        "        return grad_input"
      ],
      "execution_count": null,
      "outputs": []
    },
    {
      "cell_type": "code",
      "metadata": {
        "id": "WQKl7Mz8R8Qt"
      },
      "source": [
        "# Initialisation Function\n",
        "def init():\n",
        "    #Use Global variables\n",
        "    global h_layers\n",
        "    global h_neurons\n",
        "    global a_func\n",
        "    global Afunc\n",
        "    global l_rate\n",
        "    global l_func\n",
        "    global e\n",
        "\n",
        "    # Input variables\n",
        "    print(\"*** Artificial Neural Network Paramters ***\")\n",
        "    h_layers = int(input(\"Choose the number of hidden layers: \"))\n",
        "    print(\"Choose the number of hidden neurons in each hidden layer, the optimal value found is 5: \")\n",
        "    h_neurons = []\n",
        "    i = 1\n",
        "    while (i != h_layers+1):\n",
        "        print(\"Input number of neurons for layer \", i)\n",
        "        neurons = int(input(\">>> \"))\n",
        "        h_neurons.append(neurons)\n",
        "        i += 1\n",
        "    a_func = int(input(\"Choose the activation function;\\n1 - logistic\\n2 - relu\\n3 - hyperbolictan\\n\\n... \"))\n",
        "    if a_func == 1:\n",
        "        Afunc = Logistic()\n",
        "    elif a_func == 2:\n",
        "        Afunc = ReLU()\n",
        "    elif a_func == 3:\n",
        "        Afunc = HyperbolicTan()\n",
        "    else:\n",
        "        print(\"The entered value is out of bounds, the program will terminate.\")\n",
        "        sys.exit()\n",
        "    l_rate = float(input(\"Choose the learning rate, the optimal value found is 0.1: \"))\n",
        "    e = int(input(\"Choose the number of epochs, the optimal value found is 9: \"))\n",
        "    l_func = int(input(\"Choose the type of loss function;\\n1 - cross_entropy\\n2 - loss_mean_squared\\n\\n... \"))\n",
        "    if l_func != 1 and l_func != 2:\n",
        "        print(\"The entered value is out of bounds, the program will terminate.\")\n",
        "        sys.exit()"
      ],
      "execution_count": null,
      "outputs": []
    },
    {
      "cell_type": "code",
      "metadata": {
        "id": "N_29hFXISHTi",
        "colab": {
          "base_uri": "https://localhost:8080/",
          "height": 887
        },
        "outputId": "fed232eb-f17d-4cff-8755-8f4527f27465"
      },
      "source": [
        "# Running ANN\n",
        "def runANN():\n",
        "    # Initialising the network\n",
        "    global network\n",
        "    network.append(Dense(X_train.shape[1], h_neurons[0]))\n",
        "\n",
        "    # Adding layers to the network\n",
        "    i = 0\n",
        "    if i < h_layers:\n",
        "        if i == 0:\n",
        "            network.append(Afunc)\n",
        "            network.append(Dense(h_neurons[i], h_neurons[i + 1]))\n",
        "        elif i == h_layers:\n",
        "            network.append(Afunc)\n",
        "            network.append(Dense(h_neurons[i - 1], 1))\n",
        "        else:\n",
        "            network.append(Afunc)\n",
        "            network.append(h_neurons[i - 1], h_neurons[i])\n",
        "        i += i\n",
        "\n",
        "    # Running the epochs\n",
        "    train_log = []\n",
        "    val_log = []\n",
        "    for epoch in range(e):\n",
        "        for x_batch, y_batch in iterate_minibatches(X_train, y_train, batchsize=32, shuffle=True):\n",
        "            train(network, x_batch, y_batch)\n",
        "\n",
        "        train_log.append(np.mean(predict(network, X_train) == y_train))\n",
        "        val_log.append(np.mean(predict(network, X_test) == y_test))\n",
        "\n",
        "        clear_output()\n",
        "        print(\"Epoch\", epoch)\n",
        "        print(\"Train accuracy:\", train_log[-1])\n",
        "        print(\"Val accuracy:\", val_log[-1])\n",
        "        plt.plot(train_log, label='train accuracy')\n",
        "        plt.plot(val_log, label='test accuracy')\n",
        "        plt.legend(loc='best')\n",
        "        plt.grid()\n",
        "        plt.show()\n",
        "\n",
        "init()\n",
        "runANN()"
      ],
      "execution_count": null,
      "outputs": [
        {
          "name": "stdout",
          "output_type": "stream",
          "text": [
            "*** Artificial Neural Network Paramters ***\n",
            "Choose the number of hidden layers: 5\n",
            "Choose the number of hidden neurons in each hidden layer, the optimal value found is 5: \n",
            "Input number of neurons for layer  1\n",
            ">>> 5\n",
            "Input number of neurons for layer  2\n",
            ">>> 10\n",
            "Input number of neurons for layer  3\n",
            ">>> 15\n",
            "Input number of neurons for layer  4\n",
            ">>> 20\n",
            "Input number of neurons for layer  5\n",
            ">>> 25\n",
            "Choose the activation function;\n",
            "1 - logistic\n",
            "2 - relu\n",
            "3 - hyperbolictan\n",
            "\n",
            "... 1\n",
            "Choose the learning rate, the optimal value found is 0.1: 0.1\n",
            "Choose the number of epochs, the optimal value found is 9: 2\n",
            "Choose the type of loss function;\n",
            "1 - cross_entropy\n",
            "2 - loss_mean_squared\n",
            "\n",
            "... 1\n"
          ]
        },
        {
          "output_type": "stream",
          "name": "stderr",
          "text": [
            "  0%|          | 0/1843 [00:00<?, ?it/s]/usr/local/lib/python3.7/dist-packages/ipykernel_launcher.py:32: RuntimeWarning: overflow encountered in exp\n",
            "  0%|          | 0/1843 [00:00<?, ?it/s]\n"
          ]
        },
        {
          "output_type": "error",
          "ename": "ValueError",
          "evalue": "ignored",
          "traceback": [
            "\u001b[0;31m---------------------------------------------------------------------------\u001b[0m",
            "\u001b[0;31mValueError\u001b[0m                                Traceback (most recent call last)",
            "\u001b[0;32m<ipython-input-45-fa4c78a38a48>\u001b[0m in \u001b[0;36m<module>\u001b[0;34m()\u001b[0m\n\u001b[1;32m     40\u001b[0m \u001b[0;34m\u001b[0m\u001b[0m\n\u001b[1;32m     41\u001b[0m \u001b[0minit\u001b[0m\u001b[0;34m(\u001b[0m\u001b[0;34m)\u001b[0m\u001b[0;34m\u001b[0m\u001b[0;34m\u001b[0m\u001b[0m\n\u001b[0;32m---> 42\u001b[0;31m \u001b[0mrunANN\u001b[0m\u001b[0;34m(\u001b[0m\u001b[0;34m)\u001b[0m\u001b[0;34m\u001b[0m\u001b[0;34m\u001b[0m\u001b[0m\n\u001b[0m",
            "\u001b[0;32m<ipython-input-45-fa4c78a38a48>\u001b[0m in \u001b[0;36mrunANN\u001b[0;34m()\u001b[0m\n\u001b[1;32m     24\u001b[0m     \u001b[0;32mfor\u001b[0m \u001b[0mepoch\u001b[0m \u001b[0;32min\u001b[0m \u001b[0mrange\u001b[0m\u001b[0;34m(\u001b[0m\u001b[0me\u001b[0m\u001b[0;34m)\u001b[0m\u001b[0;34m:\u001b[0m\u001b[0;34m\u001b[0m\u001b[0;34m\u001b[0m\u001b[0m\n\u001b[1;32m     25\u001b[0m         \u001b[0;32mfor\u001b[0m \u001b[0mx_batch\u001b[0m\u001b[0;34m,\u001b[0m \u001b[0my_batch\u001b[0m \u001b[0;32min\u001b[0m \u001b[0miterate_minibatches\u001b[0m\u001b[0;34m(\u001b[0m\u001b[0mX_train\u001b[0m\u001b[0;34m,\u001b[0m \u001b[0my_train\u001b[0m\u001b[0;34m,\u001b[0m \u001b[0mbatchsize\u001b[0m\u001b[0;34m=\u001b[0m\u001b[0;36m32\u001b[0m\u001b[0;34m,\u001b[0m \u001b[0mshuffle\u001b[0m\u001b[0;34m=\u001b[0m\u001b[0;32mTrue\u001b[0m\u001b[0;34m)\u001b[0m\u001b[0;34m:\u001b[0m\u001b[0;34m\u001b[0m\u001b[0;34m\u001b[0m\u001b[0m\n\u001b[0;32m---> 26\u001b[0;31m             \u001b[0mtrain\u001b[0m\u001b[0;34m(\u001b[0m\u001b[0mnetwork\u001b[0m\u001b[0;34m,\u001b[0m \u001b[0mx_batch\u001b[0m\u001b[0;34m,\u001b[0m \u001b[0my_batch\u001b[0m\u001b[0;34m)\u001b[0m\u001b[0;34m\u001b[0m\u001b[0;34m\u001b[0m\u001b[0m\n\u001b[0m\u001b[1;32m     27\u001b[0m \u001b[0;34m\u001b[0m\u001b[0m\n\u001b[1;32m     28\u001b[0m         \u001b[0mtrain_log\u001b[0m\u001b[0;34m.\u001b[0m\u001b[0mappend\u001b[0m\u001b[0;34m(\u001b[0m\u001b[0mnp\u001b[0m\u001b[0;34m.\u001b[0m\u001b[0mmean\u001b[0m\u001b[0;34m(\u001b[0m\u001b[0mpredict\u001b[0m\u001b[0;34m(\u001b[0m\u001b[0mnetwork\u001b[0m\u001b[0;34m,\u001b[0m \u001b[0mX_train\u001b[0m\u001b[0;34m)\u001b[0m \u001b[0;34m==\u001b[0m \u001b[0my_train\u001b[0m\u001b[0;34m)\u001b[0m\u001b[0;34m)\u001b[0m\u001b[0;34m\u001b[0m\u001b[0;34m\u001b[0m\u001b[0m\n",
            "\u001b[0;32m<ipython-input-31-97f9d1418816>\u001b[0m in \u001b[0;36mtrain\u001b[0;34m(network, X, y)\u001b[0m\n\u001b[1;32m     30\u001b[0m \u001b[0;34m\u001b[0m\u001b[0m\n\u001b[1;32m     31\u001b[0m     \u001b[0;31m# Get the layer activations\u001b[0m\u001b[0;34m\u001b[0m\u001b[0;34m\u001b[0m\u001b[0;34m\u001b[0m\u001b[0m\n\u001b[0;32m---> 32\u001b[0;31m     \u001b[0mlayer_activations\u001b[0m \u001b[0;34m=\u001b[0m \u001b[0mforward\u001b[0m\u001b[0;34m(\u001b[0m\u001b[0mnetwork\u001b[0m\u001b[0;34m,\u001b[0m \u001b[0mX\u001b[0m\u001b[0;34m)\u001b[0m\u001b[0;34m\u001b[0m\u001b[0;34m\u001b[0m\u001b[0m\n\u001b[0m\u001b[1;32m     33\u001b[0m     \u001b[0mlayer_inputs\u001b[0m \u001b[0;34m=\u001b[0m \u001b[0;34m[\u001b[0m\u001b[0mX\u001b[0m\u001b[0;34m]\u001b[0m \u001b[0;34m+\u001b[0m \u001b[0mlayer_activations\u001b[0m  \u001b[0;31m# layer_input[i] is an input for network[i]\u001b[0m\u001b[0;34m\u001b[0m\u001b[0;34m\u001b[0m\u001b[0m\n\u001b[1;32m     34\u001b[0m     \u001b[0mlogits\u001b[0m \u001b[0;34m=\u001b[0m \u001b[0mlayer_activations\u001b[0m\u001b[0;34m[\u001b[0m\u001b[0;34m-\u001b[0m\u001b[0;36m1\u001b[0m\u001b[0;34m]\u001b[0m\u001b[0;34m\u001b[0m\u001b[0;34m\u001b[0m\u001b[0m\n",
            "\u001b[0;32m<ipython-input-31-97f9d1418816>\u001b[0m in \u001b[0;36mforward\u001b[0;34m(network, X)\u001b[0m\n\u001b[1;32m      9\u001b[0m     \u001b[0;31m# Looping through each layer\u001b[0m\u001b[0;34m\u001b[0m\u001b[0;34m\u001b[0m\u001b[0;34m\u001b[0m\u001b[0m\n\u001b[1;32m     10\u001b[0m     \u001b[0;32mfor\u001b[0m \u001b[0ml\u001b[0m \u001b[0;32min\u001b[0m \u001b[0mnetwork\u001b[0m\u001b[0;34m:\u001b[0m\u001b[0;34m\u001b[0m\u001b[0;34m\u001b[0m\u001b[0m\n\u001b[0;32m---> 11\u001b[0;31m         \u001b[0mactivations\u001b[0m\u001b[0;34m.\u001b[0m\u001b[0mappend\u001b[0m\u001b[0;34m(\u001b[0m\u001b[0ml\u001b[0m\u001b[0;34m.\u001b[0m\u001b[0mforward\u001b[0m\u001b[0;34m(\u001b[0m\u001b[0minput\u001b[0m\u001b[0;34m)\u001b[0m\u001b[0;34m)\u001b[0m\u001b[0;34m\u001b[0m\u001b[0;34m\u001b[0m\u001b[0m\n\u001b[0m\u001b[1;32m     12\u001b[0m         \u001b[0;31m# Updating input to last layer output\u001b[0m\u001b[0;34m\u001b[0m\u001b[0;34m\u001b[0m\u001b[0;34m\u001b[0m\u001b[0m\n\u001b[1;32m     13\u001b[0m         \u001b[0minput\u001b[0m \u001b[0;34m=\u001b[0m \u001b[0mactivations\u001b[0m\u001b[0;34m[\u001b[0m\u001b[0;34m-\u001b[0m\u001b[0;36m1\u001b[0m\u001b[0;34m]\u001b[0m\u001b[0;34m\u001b[0m\u001b[0;34m\u001b[0m\u001b[0m\n",
            "\u001b[0;32m<ipython-input-35-62b9e4325399>\u001b[0m in \u001b[0;36mforward\u001b[0;34m(self, input)\u001b[0m\n\u001b[1;32m     17\u001b[0m         \u001b[0;31m# input shape: [batch, input_units]\u001b[0m\u001b[0;34m\u001b[0m\u001b[0;34m\u001b[0m\u001b[0;34m\u001b[0m\u001b[0m\n\u001b[1;32m     18\u001b[0m         \u001b[0;31m# output shape: [batch, output units]\u001b[0m\u001b[0;34m\u001b[0m\u001b[0;34m\u001b[0m\u001b[0;34m\u001b[0m\u001b[0m\n\u001b[0;32m---> 19\u001b[0;31m         \u001b[0;32mreturn\u001b[0m \u001b[0mnp\u001b[0m\u001b[0;34m.\u001b[0m\u001b[0mdot\u001b[0m\u001b[0;34m(\u001b[0m\u001b[0minput\u001b[0m\u001b[0;34m,\u001b[0m \u001b[0mself\u001b[0m\u001b[0;34m.\u001b[0m\u001b[0mweights\u001b[0m\u001b[0;34m)\u001b[0m \u001b[0;34m+\u001b[0m \u001b[0mself\u001b[0m\u001b[0;34m.\u001b[0m\u001b[0mbiases\u001b[0m\u001b[0;34m\u001b[0m\u001b[0;34m\u001b[0m\u001b[0m\n\u001b[0m\u001b[1;32m     20\u001b[0m \u001b[0;34m\u001b[0m\u001b[0m\n\u001b[1;32m     21\u001b[0m     \u001b[0;32mdef\u001b[0m \u001b[0mbackward\u001b[0m\u001b[0;34m(\u001b[0m\u001b[0mself\u001b[0m\u001b[0;34m,\u001b[0m \u001b[0minput\u001b[0m\u001b[0;34m,\u001b[0m \u001b[0mgrad_output\u001b[0m\u001b[0;34m)\u001b[0m\u001b[0;34m:\u001b[0m\u001b[0;34m\u001b[0m\u001b[0;34m\u001b[0m\u001b[0m\n",
            "\u001b[0;32m<__array_function__ internals>\u001b[0m in \u001b[0;36mdot\u001b[0;34m(*args, **kwargs)\u001b[0m\n",
            "\u001b[0;31mValueError\u001b[0m: shapes (32,10) and (784,5) not aligned: 10 (dim 1) != 784 (dim 0)"
          ]
        }
      ]
    },
    {
      "cell_type": "markdown",
      "metadata": {
        "id": "28kFI6McS7Hc"
      },
      "source": [
        "# MNIST Comparision"
      ]
    },
    {
      "cell_type": "code",
      "metadata": {
        "id": "3zQVGApfSZ4p",
        "colab": {
          "base_uri": "https://localhost:8080/"
        },
        "outputId": "44f8f9a6-68a8-4aa5-ecda-e3c5cbd7570c"
      },
      "source": [
        "(x_train, y_train), (x_test, y_test) = datasets.mnist.load_data()\n",
        "X_train = np.reshape(x_train, (-1, 784))\n",
        "X_test = np.reshape(x_test, (-1, 784))"
      ],
      "execution_count": null,
      "outputs": [
        {
          "output_type": "stream",
          "name": "stdout",
          "text": [
            "Downloading data from https://storage.googleapis.com/tensorflow/tf-keras-datasets/mnist.npz\n",
            "11493376/11490434 [==============================] - 0s 0us/step\n",
            "11501568/11490434 [==============================] - 0s 0us/step\n"
          ]
        }
      ]
    },
    {
      "cell_type": "code",
      "metadata": {
        "id": "3gjhecbWTKbM",
        "colab": {
          "base_uri": "https://localhost:8080/"
        },
        "outputId": "b778a708-6eea-4796-e14f-66a8b19897b1"
      },
      "source": [
        "from sklearn.linear_model import LogisticRegression\n",
        "kmnist_clf = LogisticRegression(solver='lbfgs', tol= 1e-5, max_iter = 100, multi_class='multinomial')\n",
        "kmnist_clf.fit(X_train, y_train)\n",
        "kmnist_clf.score(X_test, y_test)"
      ],
      "execution_count": null,
      "outputs": [
        {
          "output_type": "stream",
          "name": "stderr",
          "text": [
            "/usr/local/lib/python3.7/dist-packages/sklearn/linear_model/_logistic.py:818: ConvergenceWarning: lbfgs failed to converge (status=1):\n",
            "STOP: TOTAL NO. of ITERATIONS REACHED LIMIT.\n",
            "\n",
            "Increase the number of iterations (max_iter) or scale the data as shown in:\n",
            "    https://scikit-learn.org/stable/modules/preprocessing.html\n",
            "Please also refer to the documentation for alternative solver options:\n",
            "    https://scikit-learn.org/stable/modules/linear_model.html#logistic-regression\n",
            "  extra_warning_msg=_LOGISTIC_SOLVER_CONVERGENCE_MSG,\n"
          ]
        },
        {
          "output_type": "execute_result",
          "data": {
            "text/plain": [
              "0.9255"
            ]
          },
          "metadata": {},
          "execution_count": 39
        }
      ]
    },
    {
      "cell_type": "code",
      "metadata": {
        "id": "anbLiQaRTayD",
        "colab": {
          "base_uri": "https://localhost:8080/"
        },
        "outputId": "30122075-990a-42fd-ff1d-31b2eb1206c1"
      },
      "source": [
        "from sklearn.model_selection import cross_val_score\n",
        "cross_val_score(kmnist_clf, X_train, y_train, cv=10, scoring=\"accuracy\")"
      ],
      "execution_count": null,
      "outputs": [
        {
          "output_type": "stream",
          "name": "stderr",
          "text": [
            "/usr/local/lib/python3.7/dist-packages/sklearn/linear_model/_logistic.py:818: ConvergenceWarning: lbfgs failed to converge (status=1):\n",
            "STOP: TOTAL NO. of ITERATIONS REACHED LIMIT.\n",
            "\n",
            "Increase the number of iterations (max_iter) or scale the data as shown in:\n",
            "    https://scikit-learn.org/stable/modules/preprocessing.html\n",
            "Please also refer to the documentation for alternative solver options:\n",
            "    https://scikit-learn.org/stable/modules/linear_model.html#logistic-regression\n",
            "  extra_warning_msg=_LOGISTIC_SOLVER_CONVERGENCE_MSG,\n",
            "/usr/local/lib/python3.7/dist-packages/sklearn/linear_model/_logistic.py:818: ConvergenceWarning: lbfgs failed to converge (status=1):\n",
            "STOP: TOTAL NO. of ITERATIONS REACHED LIMIT.\n",
            "\n",
            "Increase the number of iterations (max_iter) or scale the data as shown in:\n",
            "    https://scikit-learn.org/stable/modules/preprocessing.html\n",
            "Please also refer to the documentation for alternative solver options:\n",
            "    https://scikit-learn.org/stable/modules/linear_model.html#logistic-regression\n",
            "  extra_warning_msg=_LOGISTIC_SOLVER_CONVERGENCE_MSG,\n",
            "/usr/local/lib/python3.7/dist-packages/sklearn/linear_model/_logistic.py:818: ConvergenceWarning: lbfgs failed to converge (status=1):\n",
            "STOP: TOTAL NO. of ITERATIONS REACHED LIMIT.\n",
            "\n",
            "Increase the number of iterations (max_iter) or scale the data as shown in:\n",
            "    https://scikit-learn.org/stable/modules/preprocessing.html\n",
            "Please also refer to the documentation for alternative solver options:\n",
            "    https://scikit-learn.org/stable/modules/linear_model.html#logistic-regression\n",
            "  extra_warning_msg=_LOGISTIC_SOLVER_CONVERGENCE_MSG,\n",
            "/usr/local/lib/python3.7/dist-packages/sklearn/linear_model/_logistic.py:818: ConvergenceWarning: lbfgs failed to converge (status=1):\n",
            "STOP: TOTAL NO. of ITERATIONS REACHED LIMIT.\n",
            "\n",
            "Increase the number of iterations (max_iter) or scale the data as shown in:\n",
            "    https://scikit-learn.org/stable/modules/preprocessing.html\n",
            "Please also refer to the documentation for alternative solver options:\n",
            "    https://scikit-learn.org/stable/modules/linear_model.html#logistic-regression\n",
            "  extra_warning_msg=_LOGISTIC_SOLVER_CONVERGENCE_MSG,\n",
            "/usr/local/lib/python3.7/dist-packages/sklearn/linear_model/_logistic.py:818: ConvergenceWarning: lbfgs failed to converge (status=1):\n",
            "STOP: TOTAL NO. of ITERATIONS REACHED LIMIT.\n",
            "\n",
            "Increase the number of iterations (max_iter) or scale the data as shown in:\n",
            "    https://scikit-learn.org/stable/modules/preprocessing.html\n",
            "Please also refer to the documentation for alternative solver options:\n",
            "    https://scikit-learn.org/stable/modules/linear_model.html#logistic-regression\n",
            "  extra_warning_msg=_LOGISTIC_SOLVER_CONVERGENCE_MSG,\n",
            "/usr/local/lib/python3.7/dist-packages/sklearn/linear_model/_logistic.py:818: ConvergenceWarning: lbfgs failed to converge (status=1):\n",
            "STOP: TOTAL NO. of ITERATIONS REACHED LIMIT.\n",
            "\n",
            "Increase the number of iterations (max_iter) or scale the data as shown in:\n",
            "    https://scikit-learn.org/stable/modules/preprocessing.html\n",
            "Please also refer to the documentation for alternative solver options:\n",
            "    https://scikit-learn.org/stable/modules/linear_model.html#logistic-regression\n",
            "  extra_warning_msg=_LOGISTIC_SOLVER_CONVERGENCE_MSG,\n",
            "/usr/local/lib/python3.7/dist-packages/sklearn/linear_model/_logistic.py:818: ConvergenceWarning: lbfgs failed to converge (status=1):\n",
            "STOP: TOTAL NO. of ITERATIONS REACHED LIMIT.\n",
            "\n",
            "Increase the number of iterations (max_iter) or scale the data as shown in:\n",
            "    https://scikit-learn.org/stable/modules/preprocessing.html\n",
            "Please also refer to the documentation for alternative solver options:\n",
            "    https://scikit-learn.org/stable/modules/linear_model.html#logistic-regression\n",
            "  extra_warning_msg=_LOGISTIC_SOLVER_CONVERGENCE_MSG,\n",
            "/usr/local/lib/python3.7/dist-packages/sklearn/linear_model/_logistic.py:818: ConvergenceWarning: lbfgs failed to converge (status=1):\n",
            "STOP: TOTAL NO. of ITERATIONS REACHED LIMIT.\n",
            "\n",
            "Increase the number of iterations (max_iter) or scale the data as shown in:\n",
            "    https://scikit-learn.org/stable/modules/preprocessing.html\n",
            "Please also refer to the documentation for alternative solver options:\n",
            "    https://scikit-learn.org/stable/modules/linear_model.html#logistic-regression\n",
            "  extra_warning_msg=_LOGISTIC_SOLVER_CONVERGENCE_MSG,\n",
            "/usr/local/lib/python3.7/dist-packages/sklearn/linear_model/_logistic.py:818: ConvergenceWarning: lbfgs failed to converge (status=1):\n",
            "STOP: TOTAL NO. of ITERATIONS REACHED LIMIT.\n",
            "\n",
            "Increase the number of iterations (max_iter) or scale the data as shown in:\n",
            "    https://scikit-learn.org/stable/modules/preprocessing.html\n",
            "Please also refer to the documentation for alternative solver options:\n",
            "    https://scikit-learn.org/stable/modules/linear_model.html#logistic-regression\n",
            "  extra_warning_msg=_LOGISTIC_SOLVER_CONVERGENCE_MSG,\n",
            "/usr/local/lib/python3.7/dist-packages/sklearn/linear_model/_logistic.py:818: ConvergenceWarning: lbfgs failed to converge (status=1):\n",
            "STOP: TOTAL NO. of ITERATIONS REACHED LIMIT.\n",
            "\n",
            "Increase the number of iterations (max_iter) or scale the data as shown in:\n",
            "    https://scikit-learn.org/stable/modules/preprocessing.html\n",
            "Please also refer to the documentation for alternative solver options:\n",
            "    https://scikit-learn.org/stable/modules/linear_model.html#logistic-regression\n",
            "  extra_warning_msg=_LOGISTIC_SOLVER_CONVERGENCE_MSG,\n"
          ]
        },
        {
          "output_type": "execute_result",
          "data": {
            "text/plain": [
              "array([0.926     , 0.919     , 0.9085    , 0.92666667, 0.92133333,\n",
              "       0.917     , 0.90916667, 0.91383333, 0.91516667, 0.939     ])"
            ]
          },
          "metadata": {},
          "execution_count": 40
        }
      ]
    },
    {
      "cell_type": "code",
      "metadata": {
        "id": "Y40MYLRnMmOF"
      },
      "source": [
        "# Initial Setup\n",
        "\n",
        "np.random.seed(42)\n",
        "\n",
        "X_train, X_val = X_train[:-1000], X_train[-1000:]\n",
        "y_train, y_val = y_train[:-1000], y_train[-1000:]"
      ],
      "execution_count": null,
      "outputs": []
    },
    {
      "cell_type": "code",
      "metadata": {
        "colab": {
          "base_uri": "https://localhost:8080/",
          "height": 869
        },
        "id": "FLDsJtqgSNEO",
        "outputId": "416fed33-b8d6-45dc-8252-16100bbe79f1"
      },
      "source": [
        "runANN()"
      ],
      "execution_count": null,
      "outputs": [
        {
          "name": "stdout",
          "output_type": "stream",
          "text": [
            "*** Artificial Neural Network Paramters ***\n",
            "Choose the number of hidden layers: 5\n",
            "Choose the number of hidden neurons in each hidden layer, the optimal value found is 5: \n",
            "Input number of neurons for layer  1\n",
            ">>> 5\n",
            "Input number of neurons for layer  2\n",
            ">>> 10\n",
            "Input number of neurons for layer  3\n",
            ">>> 15\n",
            "Input number of neurons for layer  4\n",
            ">>> 20\n",
            "Input number of neurons for layer  5\n",
            ">>> 25\n",
            "Choose the activation function;\n",
            "1 - logistic\n",
            "2 - relu\n",
            "3 - hyperbolictan\n",
            "\n",
            "... 1\n",
            "Choose the learning rate, the optimal value found is 0.1: 0.1\n",
            "Choose the number of epochs, the optimal value found is 9: 20\n",
            "Choose the type of loss function;\n",
            "1 - cross_entropy\n",
            "2 - loss_mean_squared\n",
            "\n",
            "... 1\n"
          ]
        },
        {
          "output_type": "stream",
          "name": "stderr",
          "text": [
            "  0%|          | 0/1843 [00:00<?, ?it/s]/usr/local/lib/python3.7/dist-packages/ipykernel_launcher.py:32: RuntimeWarning: overflow encountered in exp\n",
            "  0%|          | 0/1843 [00:00<?, ?it/s]\n"
          ]
        },
        {
          "output_type": "error",
          "ename": "ValueError",
          "evalue": "ignored",
          "traceback": [
            "\u001b[0;31m---------------------------------------------------------------------------\u001b[0m",
            "\u001b[0;31mValueError\u001b[0m                                Traceback (most recent call last)",
            "\u001b[0;32m<ipython-input-44-da8d4c821c0c>\u001b[0m in \u001b[0;36m<module>\u001b[0;34m()\u001b[0m\n\u001b[1;32m      1\u001b[0m \u001b[0minit\u001b[0m\u001b[0;34m(\u001b[0m\u001b[0;34m)\u001b[0m\u001b[0;34m\u001b[0m\u001b[0;34m\u001b[0m\u001b[0m\n\u001b[0;32m----> 2\u001b[0;31m \u001b[0mrunANN\u001b[0m\u001b[0;34m(\u001b[0m\u001b[0;34m)\u001b[0m\u001b[0;34m\u001b[0m\u001b[0;34m\u001b[0m\u001b[0m\n\u001b[0m",
            "\u001b[0;32m<ipython-input-37-fa4c78a38a48>\u001b[0m in \u001b[0;36mrunANN\u001b[0;34m()\u001b[0m\n\u001b[1;32m     24\u001b[0m     \u001b[0;32mfor\u001b[0m \u001b[0mepoch\u001b[0m \u001b[0;32min\u001b[0m \u001b[0mrange\u001b[0m\u001b[0;34m(\u001b[0m\u001b[0me\u001b[0m\u001b[0;34m)\u001b[0m\u001b[0;34m:\u001b[0m\u001b[0;34m\u001b[0m\u001b[0;34m\u001b[0m\u001b[0m\n\u001b[1;32m     25\u001b[0m         \u001b[0;32mfor\u001b[0m \u001b[0mx_batch\u001b[0m\u001b[0;34m,\u001b[0m \u001b[0my_batch\u001b[0m \u001b[0;32min\u001b[0m \u001b[0miterate_minibatches\u001b[0m\u001b[0;34m(\u001b[0m\u001b[0mX_train\u001b[0m\u001b[0;34m,\u001b[0m \u001b[0my_train\u001b[0m\u001b[0;34m,\u001b[0m \u001b[0mbatchsize\u001b[0m\u001b[0;34m=\u001b[0m\u001b[0;36m32\u001b[0m\u001b[0;34m,\u001b[0m \u001b[0mshuffle\u001b[0m\u001b[0;34m=\u001b[0m\u001b[0;32mTrue\u001b[0m\u001b[0;34m)\u001b[0m\u001b[0;34m:\u001b[0m\u001b[0;34m\u001b[0m\u001b[0;34m\u001b[0m\u001b[0m\n\u001b[0;32m---> 26\u001b[0;31m             \u001b[0mtrain\u001b[0m\u001b[0;34m(\u001b[0m\u001b[0mnetwork\u001b[0m\u001b[0;34m,\u001b[0m \u001b[0mx_batch\u001b[0m\u001b[0;34m,\u001b[0m \u001b[0my_batch\u001b[0m\u001b[0;34m)\u001b[0m\u001b[0;34m\u001b[0m\u001b[0;34m\u001b[0m\u001b[0m\n\u001b[0m\u001b[1;32m     27\u001b[0m \u001b[0;34m\u001b[0m\u001b[0m\n\u001b[1;32m     28\u001b[0m         \u001b[0mtrain_log\u001b[0m\u001b[0;34m.\u001b[0m\u001b[0mappend\u001b[0m\u001b[0;34m(\u001b[0m\u001b[0mnp\u001b[0m\u001b[0;34m.\u001b[0m\u001b[0mmean\u001b[0m\u001b[0;34m(\u001b[0m\u001b[0mpredict\u001b[0m\u001b[0;34m(\u001b[0m\u001b[0mnetwork\u001b[0m\u001b[0;34m,\u001b[0m \u001b[0mX_train\u001b[0m\u001b[0;34m)\u001b[0m \u001b[0;34m==\u001b[0m \u001b[0my_train\u001b[0m\u001b[0;34m)\u001b[0m\u001b[0;34m)\u001b[0m\u001b[0;34m\u001b[0m\u001b[0;34m\u001b[0m\u001b[0m\n",
            "\u001b[0;32m<ipython-input-31-97f9d1418816>\u001b[0m in \u001b[0;36mtrain\u001b[0;34m(network, X, y)\u001b[0m\n\u001b[1;32m     30\u001b[0m \u001b[0;34m\u001b[0m\u001b[0m\n\u001b[1;32m     31\u001b[0m     \u001b[0;31m# Get the layer activations\u001b[0m\u001b[0;34m\u001b[0m\u001b[0;34m\u001b[0m\u001b[0;34m\u001b[0m\u001b[0m\n\u001b[0;32m---> 32\u001b[0;31m     \u001b[0mlayer_activations\u001b[0m \u001b[0;34m=\u001b[0m \u001b[0mforward\u001b[0m\u001b[0;34m(\u001b[0m\u001b[0mnetwork\u001b[0m\u001b[0;34m,\u001b[0m \u001b[0mX\u001b[0m\u001b[0;34m)\u001b[0m\u001b[0;34m\u001b[0m\u001b[0;34m\u001b[0m\u001b[0m\n\u001b[0m\u001b[1;32m     33\u001b[0m     \u001b[0mlayer_inputs\u001b[0m \u001b[0;34m=\u001b[0m \u001b[0;34m[\u001b[0m\u001b[0mX\u001b[0m\u001b[0;34m]\u001b[0m \u001b[0;34m+\u001b[0m \u001b[0mlayer_activations\u001b[0m  \u001b[0;31m# layer_input[i] is an input for network[i]\u001b[0m\u001b[0;34m\u001b[0m\u001b[0;34m\u001b[0m\u001b[0m\n\u001b[1;32m     34\u001b[0m     \u001b[0mlogits\u001b[0m \u001b[0;34m=\u001b[0m \u001b[0mlayer_activations\u001b[0m\u001b[0;34m[\u001b[0m\u001b[0;34m-\u001b[0m\u001b[0;36m1\u001b[0m\u001b[0;34m]\u001b[0m\u001b[0;34m\u001b[0m\u001b[0;34m\u001b[0m\u001b[0m\n",
            "\u001b[0;32m<ipython-input-31-97f9d1418816>\u001b[0m in \u001b[0;36mforward\u001b[0;34m(network, X)\u001b[0m\n\u001b[1;32m      9\u001b[0m     \u001b[0;31m# Looping through each layer\u001b[0m\u001b[0;34m\u001b[0m\u001b[0;34m\u001b[0m\u001b[0;34m\u001b[0m\u001b[0m\n\u001b[1;32m     10\u001b[0m     \u001b[0;32mfor\u001b[0m \u001b[0ml\u001b[0m \u001b[0;32min\u001b[0m \u001b[0mnetwork\u001b[0m\u001b[0;34m:\u001b[0m\u001b[0;34m\u001b[0m\u001b[0;34m\u001b[0m\u001b[0m\n\u001b[0;32m---> 11\u001b[0;31m         \u001b[0mactivations\u001b[0m\u001b[0;34m.\u001b[0m\u001b[0mappend\u001b[0m\u001b[0;34m(\u001b[0m\u001b[0ml\u001b[0m\u001b[0;34m.\u001b[0m\u001b[0mforward\u001b[0m\u001b[0;34m(\u001b[0m\u001b[0minput\u001b[0m\u001b[0;34m)\u001b[0m\u001b[0;34m)\u001b[0m\u001b[0;34m\u001b[0m\u001b[0;34m\u001b[0m\u001b[0m\n\u001b[0m\u001b[1;32m     12\u001b[0m         \u001b[0;31m# Updating input to last layer output\u001b[0m\u001b[0;34m\u001b[0m\u001b[0;34m\u001b[0m\u001b[0;34m\u001b[0m\u001b[0m\n\u001b[1;32m     13\u001b[0m         \u001b[0minput\u001b[0m \u001b[0;34m=\u001b[0m \u001b[0mactivations\u001b[0m\u001b[0;34m[\u001b[0m\u001b[0;34m-\u001b[0m\u001b[0;36m1\u001b[0m\u001b[0;34m]\u001b[0m\u001b[0;34m\u001b[0m\u001b[0;34m\u001b[0m\u001b[0m\n",
            "\u001b[0;32m<ipython-input-35-62b9e4325399>\u001b[0m in \u001b[0;36mforward\u001b[0;34m(self, input)\u001b[0m\n\u001b[1;32m     17\u001b[0m         \u001b[0;31m# input shape: [batch, input_units]\u001b[0m\u001b[0;34m\u001b[0m\u001b[0;34m\u001b[0m\u001b[0;34m\u001b[0m\u001b[0m\n\u001b[1;32m     18\u001b[0m         \u001b[0;31m# output shape: [batch, output units]\u001b[0m\u001b[0;34m\u001b[0m\u001b[0;34m\u001b[0m\u001b[0;34m\u001b[0m\u001b[0m\n\u001b[0;32m---> 19\u001b[0;31m         \u001b[0;32mreturn\u001b[0m \u001b[0mnp\u001b[0m\u001b[0;34m.\u001b[0m\u001b[0mdot\u001b[0m\u001b[0;34m(\u001b[0m\u001b[0minput\u001b[0m\u001b[0;34m,\u001b[0m \u001b[0mself\u001b[0m\u001b[0;34m.\u001b[0m\u001b[0mweights\u001b[0m\u001b[0;34m)\u001b[0m \u001b[0;34m+\u001b[0m \u001b[0mself\u001b[0m\u001b[0;34m.\u001b[0m\u001b[0mbiases\u001b[0m\u001b[0;34m\u001b[0m\u001b[0;34m\u001b[0m\u001b[0m\n\u001b[0m\u001b[1;32m     20\u001b[0m \u001b[0;34m\u001b[0m\u001b[0m\n\u001b[1;32m     21\u001b[0m     \u001b[0;32mdef\u001b[0m \u001b[0mbackward\u001b[0m\u001b[0;34m(\u001b[0m\u001b[0mself\u001b[0m\u001b[0;34m,\u001b[0m \u001b[0minput\u001b[0m\u001b[0;34m,\u001b[0m \u001b[0mgrad_output\u001b[0m\u001b[0;34m)\u001b[0m\u001b[0;34m:\u001b[0m\u001b[0;34m\u001b[0m\u001b[0;34m\u001b[0m\u001b[0m\n",
            "\u001b[0;32m<__array_function__ internals>\u001b[0m in \u001b[0;36mdot\u001b[0;34m(*args, **kwargs)\u001b[0m\n",
            "\u001b[0;31mValueError\u001b[0m: shapes (32,10) and (784,5) not aligned: 10 (dim 1) != 784 (dim 0)"
          ]
        }
      ]
    },
    {
      "cell_type": "markdown",
      "metadata": {
        "id": "4pmP4zP6OBjK"
      },
      "source": [
        "# Convolutional Neural Network"
      ]
    },
    {
      "cell_type": "code",
      "metadata": {
        "id": "DVsHF3KsaCbd"
      },
      "source": [
        "# Loading data\n",
        "x_train = np.load(\"kmnist-train-imgs.npz\")['arr_0']\n",
        "y_train = np.load(\"kmnist-train-labels.npz\")['arr_0']\n",
        "x_test = np.load(\"kmnist-test-imgs.npz\")['arr_0']\n",
        "y_test = np.load(\"kmnist-test-labels.npz\")['arr_0']\n",
        "\n",
        "# Flatten images\n",
        "X_train = np.reshape(x_train, (-1, 784))\n",
        "X_test = np.reshape(x_test, (-1, 784))"
      ],
      "execution_count": null,
      "outputs": []
    },
    {
      "cell_type": "code",
      "metadata": {
        "id": "dFxKo1O2Kvxu",
        "colab": {
          "base_uri": "https://localhost:8080/",
          "height": 813
        },
        "outputId": "2919b85d-dace-48dc-8a49-032d0020ac13"
      },
      "source": [
        "for i in [3,8,9]:\n",
        "    plt.figure()\n",
        "    plt.imshow(x_train[i])\n",
        "    print(y_train[i])"
      ],
      "execution_count": null,
      "outputs": [
        {
          "output_type": "stream",
          "name": "stdout",
          "text": [
            "1\n",
            "1\n",
            "1\n"
          ]
        },
        {
          "output_type": "display_data",
          "data": {
            "image/png": "[encoded data removed]",
            "text/plain": [
              "<Figure size 432x288 with 1 Axes>"
            ]
          },
          "metadata": {
            "needs_background": "light"
          }
        },
        {
          "output_type": "display_data",
          "data": {
            "image/png": "[encoded data removed]",
            "text/plain": [
              "<Figure size 432x288 with 1 Axes>"
            ]
          },
          "metadata": {
            "needs_background": "light"
          }
        },
        {
          "output_type": "display_data",
          "data": {
            "image/png": "[encoded data removed]",
            "text/plain": [
              "<Figure size 432x288 with 1 Axes>"
            ]
          },
          "metadata": {
            "needs_background": "light"
          }
        }
      ]
    },
    {
      "cell_type": "code",
      "metadata": {
        "id": "jNK4JgmWLpKW",
        "colab": {
          "base_uri": "https://localhost:8080/",
          "height": 335
        },
        "outputId": "77822626-669d-4fb4-822a-54a488a5f5ae"
      },
      "source": [
        "plt.hist(y_train, bins = 10)"
      ],
      "execution_count": null,
      "outputs": [
        {
          "output_type": "execute_result",
          "data": {
            "text/plain": [
              "(array([6000., 6000., 6000., 6000., 6000., 6000., 6000., 6000., 6000.,\n",
              "        6000.]),\n",
              " array([0. , 0.9, 1.8, 2.7, 3.6, 4.5, 5.4, 6.3, 7.2, 8.1, 9. ]),\n",
              " <a list of 10 Patch objects>)"
            ]
          },
          "metadata": {},
          "execution_count": 49
        },
        {
          "output_type": "display_data",
          "data": {
            "image/png": "[encoded data removed]",
            "text/plain": [
              "<Figure size 432x288 with 1 Axes>"
            ]
          },
          "metadata": {
            "needs_background": "light"
          }
        }
      ]
    },
    {
      "cell_type": "code",
      "metadata": {
        "id": "NvtdQo_OLr_z",
        "colab": {
          "base_uri": "https://localhost:8080/"
        },
        "outputId": "56e7b3bc-e10e-4413-e00c-9f36c519b759"
      },
      "source": [
        "max_val = []\n",
        "for i in range(len(x_train)):\n",
        "    max_val.append(np.max(x_train[i]))\n",
        "max_val"
      ],
      "execution_count": null,
      "outputs": [
        {
          "output_type": "execute_result",
          "data": {
            "text/plain": [
              "[255,\n",
              " 255,\n",
              " 255,\n",
              " 255,\n",
              " 255,\n",
              " 255,\n",
              " 255,\n",
              " 255,\n",
              " 255,\n",
              " 255,\n",
              " 255,\n",
              " 255,\n",
              " 255,\n",
              " 255,\n",
              " 255,\n",
              " 255,\n",
              " 255,\n",
              " 255,\n",
              " 255,\n",
              " 255,\n",
              " 255,\n",
              " 255,\n",
              " 255,\n",
              " 251,\n",
              " 255,\n",
              " 255,\n",
              " 255,\n",
              " 255,\n",
              " 255,\n",
              " 255,\n",
              " 255,\n",
              " 255,\n",
              " 255,\n",
              " 255,\n",
              " 255,\n",
              " 255,\n",
              " 255,\n",
              " 255,\n",
              " 255,\n",
              " 255,\n",
              " 255,\n",
              " 255,\n",
              " 255,\n",
              " 255,\n",
              " 255,\n",
              " 255,\n",
              " 255,\n",
              " 255,\n",
              " 255,\n",
              " 255,\n",
              " 255,\n",
              " 255,\n",
              " 255,\n",
              " 255,\n",
              " 255,\n",
              " 255,\n",
              " 255,\n",
              " 255,\n",
              " 255,\n",
              " 255,\n",
              " 255,\n",
              " 255,\n",
              " 255,\n",
              " 255,\n",
              " 255,\n",
              " 255,\n",
              " 255,\n",
              " 255,\n",
              " 255,\n",
              " 255,\n",
              " 255,\n",
              " 255,\n",
              " 255,\n",
              " 255,\n",
              " 255,\n",
              " 255,\n",
              " 255,\n",
              " 255,\n",
              " 255,\n",
              " 255,\n",
              " 255,\n",
              " 255,\n",
              " 255,\n",
              " 255,\n",
              " 255,\n",
              " 255,\n",
              " 255,\n",
              " 255,\n",
              " 255,\n",
              " 255,\n",
              " 255,\n",
              " 255,\n",
              " 255,\n",
              " 255,\n",
              " 255,\n",
              " 255,\n",
              " 255,\n",
              " 255,\n",
              " 255,\n",
              " 255,\n",
              " 255,\n",
              " 255,\n",
              " 255,\n",
              " 255,\n",
              " 255,\n",
              " 255,\n",
              " 255,\n",
              " 255,\n",
              " 255,\n",
              " 255,\n",
              " 255,\n",
              " 255,\n",
              " 255,\n",
              " 255,\n",
              " 255,\n",
              " 255,\n",
              " 255,\n",
              " 255,\n",
              " 255,\n",
              " 255,\n",
              " 255,\n",
              " 255,\n",
              " 255,\n",
              " 255,\n",
              " 255,\n",
              " 255,\n",
              " 255,\n",
              " 255,\n",
              " 255,\n",
              " 255,\n",
              " 255,\n",
              " 255,\n",
              " 255,\n",
              " 255,\n",
              " 255,\n",
              " 255,\n",
              " 255,\n",
              " 255,\n",
              " 255,\n",
              " 255,\n",
              " 255,\n",
              " 255,\n",
              " 255,\n",
              " 255,\n",
              " 255,\n",
              " 255,\n",
              " 255,\n",
              " 255,\n",
              " 255,\n",
              " 255,\n",
              " 255,\n",
              " 255,\n",
              " 255,\n",
              " 255,\n",
              " 255,\n",
              " 255,\n",
              " 255,\n",
              " 255,\n",
              " 255,\n",
              " 255,\n",
              " 255,\n",
              " 255,\n",
              " 255,\n",
              " 255,\n",
              " 255,\n",
              " 255,\n",
              " 255,\n",
              " 255,\n",
              " 255,\n",
              " 255,\n",
              " 255,\n",
              " 255,\n",
              " 255,\n",
              " 255,\n",
              " 255,\n",
              " 255,\n",
              " 255,\n",
              " 255,\n",
              " 255,\n",
              " 255,\n",
              " 255,\n",
              " 255,\n",
              " 255,\n",
              " 255,\n",
              " 255,\n",
              " 255,\n",
              " 255,\n",
              " 255,\n",
              " 255,\n",
              " 255,\n",
              " 255,\n",
              " 255,\n",
              " 255,\n",
              " 255,\n",
              " 255,\n",
              " 255,\n",
              " 255,\n",
              " 255,\n",
              " 255,\n",
              " 255,\n",
              " 255,\n",
              " 255,\n",
              " 255,\n",
              " 255,\n",
              " 255,\n",
              " 255,\n",
              " 255,\n",
              " 255,\n",
              " 255,\n",
              " 255,\n",
              " 255,\n",
              " 255,\n",
              " 255,\n",
              " 255,\n",
              " 255,\n",
              " 255,\n",
              " 255,\n",
              " 255,\n",
              " 255,\n",
              " 255,\n",
              " 255,\n",
              " 255,\n",
              " 255,\n",
              " 255,\n",
              " 255,\n",
              " 255,\n",
              " 255,\n",
              " 255,\n",
              " 255,\n",
              " 255,\n",
              " 255,\n",
              " 255,\n",
              " 255,\n",
              " 255,\n",
              " 255,\n",
              " 255,\n",
              " 255,\n",
              " 255,\n",
              " 255,\n",
              " 255,\n",
              " 255,\n",
              " 255,\n",
              " 255,\n",
              " 255,\n",
              " 255,\n",
              " 255,\n",
              " 255,\n",
              " 255,\n",
              " 255,\n",
              " 255,\n",
              " 255,\n",
              " 255,\n",
              " 255,\n",
              " 255,\n",
              " 255,\n",
              " 255,\n",
              " 255,\n",
              " 255,\n",
              " 255,\n",
              " 255,\n",
              " 255,\n",
              " 255,\n",
              " 255,\n",
              " 255,\n",
              " 255,\n",
              " 255,\n",
              " 255,\n",
              " 255,\n",
              " 255,\n",
              " 255,\n",
              " 255,\n",
              " 255,\n",
              " 255,\n",
              " 255,\n",
              " 255,\n",
              " 255,\n",
              " 255,\n",
              " 255,\n",
              " 255,\n",
              " 255,\n",
              " 255,\n",
              " 255,\n",
              " 255,\n",
              " 255,\n",
              " 255,\n",
              " 255,\n",
              " 255,\n",
              " 255,\n",
              " 255,\n",
              " 255,\n",
              " 255,\n",
              " 255,\n",
              " 255,\n",
              " 255,\n",
              " 255,\n",
              " 255,\n",
              " 255,\n",
              " 255,\n",
              " 255,\n",
              " 255,\n",
              " 255,\n",
              " 255,\n",
              " 255,\n",
              " 255,\n",
              " 255,\n",
              " 255,\n",
              " 255,\n",
              " 255,\n",
              " 255,\n",
              " 255,\n",
              " 255,\n",
              " 255,\n",
              " 255,\n",
              " 255,\n",
              " 255,\n",
              " 255,\n",
              " 255,\n",
              " 255,\n",
              " 255,\n",
              " 255,\n",
              " 255,\n",
              " 255,\n",
              " 255,\n",
              " 255,\n",
              " 255,\n",
              " 255,\n",
              " 255,\n",
              " 255,\n",
              " 255,\n",
              " 255,\n",
              " 255,\n",
              " 255,\n",
              " 255,\n",
              " 255,\n",
              " 255,\n",
              " 255,\n",
              " 255,\n",
              " 255,\n",
              " 255,\n",
              " 255,\n",
              " 255,\n",
              " 255,\n",
              " 255,\n",
              " 255,\n",
              " 255,\n",
              " 255,\n",
              " 255,\n",
              " 255,\n",
              " 255,\n",
              " 255,\n",
              " 255,\n",
              " 255,\n",
              " 255,\n",
              " 255,\n",
              " 255,\n",
              " 255,\n",
              " 255,\n",
              " 255,\n",
              " 255,\n",
              " 255,\n",
              " 255,\n",
              " 255,\n",
              " 255,\n",
              " 255,\n",
              " 255,\n",
              " 255,\n",
              " 255,\n",
              " 255,\n",
              " 255,\n",
              " 255,\n",
              " 255,\n",
              " 255,\n",
              " 255,\n",
              " 255,\n",
              " 255,\n",
              " 255,\n",
              " 255,\n",
              " 255,\n",
              " 255,\n",
              " 255,\n",
              " 255,\n",
              " 255,\n",
              " 255,\n",
              " 255,\n",
              " 255,\n",
              " 255,\n",
              " 255,\n",
              " 255,\n",
              " 255,\n",
              " 255,\n",
              " 255,\n",
              " 255,\n",
              " 255,\n",
              " 255,\n",
              " 255,\n",
              " 255,\n",
              " 255,\n",
              " 255,\n",
              " 255,\n",
              " 255,\n",
              " 255,\n",
              " 255,\n",
              " 255,\n",
              " 255,\n",
              " 255,\n",
              " 255,\n",
              " 255,\n",
              " 255,\n",
              " 255,\n",
              " 255,\n",
              " 255,\n",
              " 255,\n",
              " 255,\n",
              " 255,\n",
              " 255,\n",
              " 255,\n",
              " 255,\n",
              " 255,\n",
              " 255,\n",
              " 255,\n",
              " 255,\n",
              " 255,\n",
              " 255,\n",
              " 255,\n",
              " 255,\n",
              " 255,\n",
              " 255,\n",
              " 255,\n",
              " 255,\n",
              " 255,\n",
              " 255,\n",
              " 255,\n",
              " 255,\n",
              " 255,\n",
              " 255,\n",
              " 255,\n",
              " 255,\n",
              " 255,\n",
              " 255,\n",
              " 255,\n",
              " 255,\n",
              " 255,\n",
              " 255,\n",
              " 255,\n",
              " 255,\n",
              " 255,\n",
              " 255,\n",
              " 255,\n",
              " 255,\n",
              " 255,\n",
              " 255,\n",
              " 255,\n",
              " 255,\n",
              " 255,\n",
              " 255,\n",
              " 255,\n",
              " 255,\n",
              " 255,\n",
              " 255,\n",
              " 255,\n",
              " 255,\n",
              " 255,\n",
              " 255,\n",
              " 255,\n",
              " 255,\n",
              " 255,\n",
              " 255,\n",
              " 255,\n",
              " 255,\n",
              " 255,\n",
              " 255,\n",
              " 255,\n",
              " 255,\n",
              " 255,\n",
              " 255,\n",
              " 255,\n",
              " 255,\n",
              " 255,\n",
              " 255,\n",
              " 255,\n",
              " 255,\n",
              " 255,\n",
              " 255,\n",
              " 255,\n",
              " 255,\n",
              " 255,\n",
              " 255,\n",
              " 255,\n",
              " 255,\n",
              " 255,\n",
              " 255,\n",
              " 255,\n",
              " 255,\n",
              " 255,\n",
              " 255,\n",
              " 255,\n",
              " 255,\n",
              " 255,\n",
              " 255,\n",
              " 255,\n",
              " 255,\n",
              " 255,\n",
              " 255,\n",
              " 255,\n",
              " 255,\n",
              " 255,\n",
              " 255,\n",
              " 255,\n",
              " 255,\n",
              " 255,\n",
              " 255,\n",
              " 255,\n",
              " 255,\n",
              " 255,\n",
              " 255,\n",
              " 255,\n",
              " 255,\n",
              " 255,\n",
              " 255,\n",
              " 255,\n",
              " 255,\n",
              " 255,\n",
              " 255,\n",
              " 255,\n",
              " 255,\n",
              " 255,\n",
              " 255,\n",
              " 255,\n",
              " 255,\n",
              " 255,\n",
              " 255,\n",
              " 255,\n",
              " 255,\n",
              " 255,\n",
              " 255,\n",
              " 255,\n",
              " 255,\n",
              " 255,\n",
              " 255,\n",
              " 255,\n",
              " 255,\n",
              " 255,\n",
              " 255,\n",
              " 255,\n",
              " 255,\n",
              " 255,\n",
              " 255,\n",
              " 255,\n",
              " 255,\n",
              " 255,\n",
              " 255,\n",
              " 255,\n",
              " 255,\n",
              " 233,\n",
              " 255,\n",
              " 255,\n",
              " 255,\n",
              " 254,\n",
              " 255,\n",
              " 255,\n",
              " 255,\n",
              " 255,\n",
              " 255,\n",
              " 255,\n",
              " 255,\n",
              " 255,\n",
              " 255,\n",
              " 255,\n",
              " 255,\n",
              " 255,\n",
              " 255,\n",
              " 255,\n",
              " 255,\n",
              " 255,\n",
              " 255,\n",
              " 255,\n",
              " 255,\n",
              " 255,\n",
              " 255,\n",
              " 255,\n",
              " 255,\n",
              " 255,\n",
              " 255,\n",
              " 255,\n",
              " 255,\n",
              " 255,\n",
              " 255,\n",
              " 255,\n",
              " 255,\n",
              " 255,\n",
              " 255,\n",
              " 255,\n",
              " 255,\n",
              " 255,\n",
              " 255,\n",
              " 255,\n",
              " 255,\n",
              " 255,\n",
              " 255,\n",
              " 255,\n",
              " 255,\n",
              " 255,\n",
              " 255,\n",
              " 255,\n",
              " 255,\n",
              " 255,\n",
              " 255,\n",
              " 255,\n",
              " 255,\n",
              " 255,\n",
              " 255,\n",
              " 255,\n",
              " 255,\n",
              " 255,\n",
              " 255,\n",
              " 255,\n",
              " 255,\n",
              " 255,\n",
              " 255,\n",
              " 255,\n",
              " 255,\n",
              " 255,\n",
              " 255,\n",
              " 255,\n",
              " 255,\n",
              " 255,\n",
              " 255,\n",
              " 255,\n",
              " 255,\n",
              " 255,\n",
              " 255,\n",
              " 255,\n",
              " 255,\n",
              " 255,\n",
              " 255,\n",
              " 255,\n",
              " 255,\n",
              " 255,\n",
              " 255,\n",
              " 255,\n",
              " 255,\n",
              " 255,\n",
              " 255,\n",
              " 255,\n",
              " 255,\n",
              " 255,\n",
              " 255,\n",
              " 255,\n",
              " 255,\n",
              " 235,\n",
              " 255,\n",
              " 255,\n",
              " 255,\n",
              " 255,\n",
              " 255,\n",
              " 255,\n",
              " 255,\n",
              " 255,\n",
              " 255,\n",
              " 255,\n",
              " 255,\n",
              " 255,\n",
              " 255,\n",
              " 255,\n",
              " 255,\n",
              " 255,\n",
              " 255,\n",
              " 255,\n",
              " 255,\n",
              " 255,\n",
              " 255,\n",
              " 255,\n",
              " 255,\n",
              " 255,\n",
              " 255,\n",
              " 255,\n",
              " 255,\n",
              " 255,\n",
              " 255,\n",
              " 255,\n",
              " 255,\n",
              " 255,\n",
              " 255,\n",
              " 255,\n",
              " 255,\n",
              " 255,\n",
              " 255,\n",
              " 255,\n",
              " 255,\n",
              " 255,\n",
              " 255,\n",
              " 255,\n",
              " 255,\n",
              " 255,\n",
              " 255,\n",
              " 255,\n",
              " 255,\n",
              " 255,\n",
              " 255,\n",
              " 255,\n",
              " 253,\n",
              " 255,\n",
              " 255,\n",
              " 255,\n",
              " 255,\n",
              " 255,\n",
              " 255,\n",
              " 255,\n",
              " 255,\n",
              " 255,\n",
              " 255,\n",
              " 255,\n",
              " 255,\n",
              " 255,\n",
              " 255,\n",
              " 255,\n",
              " 255,\n",
              " 237,\n",
              " 255,\n",
              " 255,\n",
              " 255,\n",
              " 255,\n",
              " 255,\n",
              " 255,\n",
              " 255,\n",
              " 255,\n",
              " 255,\n",
              " 255,\n",
              " 255,\n",
              " 255,\n",
              " 255,\n",
              " 255,\n",
              " 255,\n",
              " 255,\n",
              " 255,\n",
              " 255,\n",
              " 255,\n",
              " 255,\n",
              " 255,\n",
              " 255,\n",
              " 255,\n",
              " 255,\n",
              " 255,\n",
              " 255,\n",
              " 255,\n",
              " 255,\n",
              " 255,\n",
              " 255,\n",
              " 255,\n",
              " 255,\n",
              " 255,\n",
              " 255,\n",
              " 255,\n",
              " 255,\n",
              " 255,\n",
              " 255,\n",
              " 255,\n",
              " 255,\n",
              " 255,\n",
              " 255,\n",
              " 255,\n",
              " 255,\n",
              " 255,\n",
              " 255,\n",
              " 255,\n",
              " 255,\n",
              " 255,\n",
              " 255,\n",
              " 255,\n",
              " 255,\n",
              " 255,\n",
              " 255,\n",
              " 255,\n",
              " 255,\n",
              " 255,\n",
              " 255,\n",
              " 255,\n",
              " 255,\n",
              " 255,\n",
              " 255,\n",
              " 255,\n",
              " 255,\n",
              " 255,\n",
              " 255,\n",
              " 255,\n",
              " 255,\n",
              " 255,\n",
              " 255,\n",
              " 255,\n",
              " 255,\n",
              " 255,\n",
              " 255,\n",
              " 255,\n",
              " 255,\n",
              " 255,\n",
              " 255,\n",
              " 255,\n",
              " 255,\n",
              " 255,\n",
              " 255,\n",
              " 255,\n",
              " 255,\n",
              " 255,\n",
              " 255,\n",
              " 255,\n",
              " 255,\n",
              " 255,\n",
              " 255,\n",
              " 255,\n",
              " 255,\n",
              " 255,\n",
              " 255,\n",
              " 255,\n",
              " 255,\n",
              " 255,\n",
              " 255,\n",
              " 255,\n",
              " 255,\n",
              " 255,\n",
              " 255,\n",
              " 255,\n",
              " 255,\n",
              " 255,\n",
              " 255,\n",
              " 255,\n",
              " 255,\n",
              " 255,\n",
              " 255,\n",
              " 255,\n",
              " 255,\n",
              " 255,\n",
              " 255,\n",
              " 255,\n",
              " 255,\n",
              " 255,\n",
              " 255,\n",
              " 255,\n",
              " 255,\n",
              " 255,\n",
              " 255,\n",
              " 255,\n",
              " 255,\n",
              " 255,\n",
              " 255,\n",
              " 255,\n",
              " 255,\n",
              " 255,\n",
              " 255,\n",
              " 255,\n",
              " 255,\n",
              " 255,\n",
              " 255,\n",
              " 255,\n",
              " 255,\n",
              " 255,\n",
              " 255,\n",
              " 255,\n",
              " 255,\n",
              " 255,\n",
              " 255,\n",
              " 255,\n",
              " 255,\n",
              " 255,\n",
              " 255,\n",
              " 255,\n",
              " 255,\n",
              " 255,\n",
              " 255,\n",
              " 255,\n",
              " 255,\n",
              " 255,\n",
              " 255,\n",
              " 255,\n",
              " 255,\n",
              " 255,\n",
              " 255,\n",
              " 255,\n",
              " 255,\n",
              " 255,\n",
              " 255,\n",
              " 255,\n",
              " 255,\n",
              " 255,\n",
              " 255,\n",
              " 255,\n",
              " 255,\n",
              " 255,\n",
              " 255,\n",
              " 255,\n",
              " 255,\n",
              " 255,\n",
              " 255,\n",
              " 255,\n",
              " 255,\n",
              " 255,\n",
              " 255,\n",
              " 255,\n",
              " 255,\n",
              " 255,\n",
              " 255,\n",
              " 255,\n",
              " 255,\n",
              " 255,\n",
              " 255,\n",
              " 255,\n",
              " 255,\n",
              " 255,\n",
              " 255,\n",
              " 255,\n",
              " 255,\n",
              " 255,\n",
              " 255,\n",
              " 255,\n",
              " 255,\n",
              " 255,\n",
              " 255,\n",
              " 255,\n",
              " 255,\n",
              " 255,\n",
              " 255,\n",
              " 255,\n",
              " 255,\n",
              " 255,\n",
              " 255,\n",
              " 255,\n",
              " 255,\n",
              " 255,\n",
              " 255,\n",
              " 255,\n",
              " 255,\n",
              " 255,\n",
              " 255,\n",
              " 255,\n",
              " 255,\n",
              " 255,\n",
              " 255,\n",
              " 255,\n",
              " 255,\n",
              " 255,\n",
              " 255,\n",
              " 255,\n",
              " 255,\n",
              " 255,\n",
              " 255,\n",
              " 255,\n",
              " 255,\n",
              " 255,\n",
              " 255,\n",
              " 255,\n",
              " 255,\n",
              " 255,\n",
              " 255,\n",
              " 255,\n",
              " 255,\n",
              " 255,\n",
              " 255,\n",
              " 255,\n",
              " 255,\n",
              " 255,\n",
              " 255,\n",
              " 255,\n",
              " 255,\n",
              " 255,\n",
              " 255,\n",
              " 255,\n",
              " 255,\n",
              " 255,\n",
              " 255,\n",
              " 255,\n",
              " 255,\n",
              " 255,\n",
              " 255,\n",
              " 255,\n",
              " 255,\n",
              " 255,\n",
              " 255,\n",
              " 255,\n",
              " 255,\n",
              " 255,\n",
              " 255,\n",
              " 255,\n",
              " 255,\n",
              " 255,\n",
              " 255,\n",
              " 255,\n",
              " 255,\n",
              " 255,\n",
              " 255,\n",
              " 255,\n",
              " 255,\n",
              " 255,\n",
              " 255,\n",
              " 255,\n",
              " 255,\n",
              " 255,\n",
              " 255,\n",
              " 255,\n",
              " 255,\n",
              " 255,\n",
              " 255,\n",
              " ...]"
            ]
          },
          "metadata": {},
          "execution_count": 50
        }
      ]
    },
    {
      "cell_type": "code",
      "metadata": {
        "id": "BMX5nDbuLvYH"
      },
      "source": [
        "x_train = x_train/255\n",
        "x_test = x_test/255"
      ],
      "execution_count": null,
      "outputs": []
    },
    {
      "cell_type": "code",
      "metadata": {
        "id": "B-CZiMBQMDYQ",
        "colab": {
          "base_uri": "https://localhost:8080/",
          "height": 283
        },
        "outputId": "598aae32-1997-4080-a100-2cd1efadfa2a"
      },
      "source": [
        "plt.imshow(x_train[0])"
      ],
      "execution_count": null,
      "outputs": [
        {
          "output_type": "execute_result",
          "data": {
            "text/plain": [
              "<matplotlib.image.AxesImage at 0x7fcb391fadd0>"
            ]
          },
          "metadata": {},
          "execution_count": 52
        },
        {
          "output_type": "display_data",
          "data": {
            "image/png": "[encoded data removed]",
            "text/plain": [
              "<Figure size 432x288 with 1 Axes>"
            ]
          },
          "metadata": {
            "needs_background": "light"
          }
        }
      ]
    },
    {
      "cell_type": "code",
      "metadata": {
        "id": "qmbv4oPXMM7K",
        "colab": {
          "base_uri": "https://localhost:8080/"
        },
        "outputId": "ab064e0f-1c35-456f-8532-9ac2b21f78be"
      },
      "source": [
        "x_train = np.reshape(x_train,(60000,28,28,1))\n",
        "\n",
        "#Add extra dimension for canal, imgs are greyscale so we only need one, if RGB we'd need 3\n",
        "np.shape(x_train)"
      ],
      "execution_count": null,
      "outputs": [
        {
          "output_type": "execute_result",
          "data": {
            "text/plain": [
              "(60000, 28, 28, 1)"
            ]
          },
          "metadata": {},
          "execution_count": 53
        }
      ]
    },
    {
      "cell_type": "code",
      "metadata": {
        "id": "YH2AwAH3UHEY"
      },
      "source": [
        "nb_classes = 10\n",
        "targets = y_train.reshape(-1)\n",
        "y_train = np.eye(nb_classes)[targets]"
      ],
      "execution_count": null,
      "outputs": []
    },
    {
      "cell_type": "code",
      "metadata": {
        "id": "2-KQmf0LNlNp"
      },
      "source": [
        "X_train, X_val, Y_train, Y_val = train_test_split(x_train, y_train, test_size = 10000, random_state=42)"
      ],
      "execution_count": null,
      "outputs": []
    },
    {
      "cell_type": "code",
      "metadata": {
        "id": "O6UD3HutTPD_",
        "colab": {
          "base_uri": "https://localhost:8080/",
          "height": 235
        },
        "outputId": "e606f0ab-1ad4-49ad-a6bd-90fa5361831f"
      },
      "source": [
        "model = Sequential()\n",
        "\n",
        "model.add(Conv2D(filters = 32, kernel_size = (5,5),padding = 'Same', \n",
        "                activation ='relu'))\n",
        "model.add(Conv2D(filters = 32, kernel_size = (5,5),padding = 'Same', \n",
        "                activation ='relu'))\n",
        "model.add(MaxPool2D(pool_size=(2,2)))\n",
        "model.add(Dropout(0.25))\n",
        "\n",
        "\n",
        "model.add(Conv2D(filters = 64, kernel_size = (3,3),padding = 'Same', \n",
        "                activation ='relu'))\n",
        "model.add(Conv2D(filters = 64, kernel_size = (3,3),padding = 'Same', \n",
        "                activation ='relu'))\n",
        "model.add(MaxPool2D(pool_size=(2,2), strides=(2,2)))\n",
        "model.add(Dropout(0.25))\n",
        "\n",
        "\n",
        "model.add(Flatten())\n",
        "model.add(Dense(256, activation= 'relu'))\n",
        "model.add(Dropout(0.5))\n",
        "model.add(Dense(10, activation = 'softmax'))\n",
        "\n",
        "# Define the optimizer\n",
        "optimizer = RMSprop(learning_rate=0.001, rho=0.9, epsilon=1e-08, decay=0.0)\n",
        "\n",
        "# Compile the model\n",
        "model.compile(optimizer = optimizer , loss = \"categorical_crossentropy\", metrics=[\"accuracy\"])\n",
        "\n",
        "# Set a learning rate annealer\n",
        "learning_rate_reduction = ReduceLROnPlateau(monitor='acc', \n",
        "                                            patience=3, \n",
        "                                            verbose=1, \n",
        "                                            factor=0.5, \n",
        "                                            min_lr=0.00001)\n",
        "\n",
        "epochs = 20\n",
        "batch_size = 86\n"
      ],
      "execution_count": null,
      "outputs": [
        {
          "output_type": "error",
          "ename": "TypeError",
          "evalue": "ignored",
          "traceback": [
            "\u001b[0;31m---------------------------------------------------------------------------\u001b[0m",
            "\u001b[0;31mTypeError\u001b[0m                                 Traceback (most recent call last)",
            "\u001b[0;32m<ipython-input-59-6bce2098a6c4>\u001b[0m in \u001b[0;36m<module>\u001b[0;34m()\u001b[0m\n\u001b[1;32m     18\u001b[0m \u001b[0;34m\u001b[0m\u001b[0m\n\u001b[1;32m     19\u001b[0m \u001b[0mmodel\u001b[0m\u001b[0;34m.\u001b[0m\u001b[0madd\u001b[0m\u001b[0;34m(\u001b[0m\u001b[0mFlatten\u001b[0m\u001b[0;34m(\u001b[0m\u001b[0;34m)\u001b[0m\u001b[0;34m)\u001b[0m\u001b[0;34m\u001b[0m\u001b[0;34m\u001b[0m\u001b[0m\n\u001b[0;32m---> 20\u001b[0;31m \u001b[0mmodel\u001b[0m\u001b[0;34m.\u001b[0m\u001b[0madd\u001b[0m\u001b[0;34m(\u001b[0m\u001b[0mDense\u001b[0m\u001b[0;34m(\u001b[0m\u001b[0;36m256\u001b[0m\u001b[0;34m,\u001b[0m \u001b[0mactivation\u001b[0m\u001b[0;34m=\u001b[0m \u001b[0;34m'relu'\u001b[0m\u001b[0;34m)\u001b[0m\u001b[0;34m)\u001b[0m\u001b[0;34m\u001b[0m\u001b[0;34m\u001b[0m\u001b[0m\n\u001b[0m\u001b[1;32m     21\u001b[0m \u001b[0mmodel\u001b[0m\u001b[0;34m.\u001b[0m\u001b[0madd\u001b[0m\u001b[0;34m(\u001b[0m\u001b[0mDropout\u001b[0m\u001b[0;34m(\u001b[0m\u001b[0;36m0.5\u001b[0m\u001b[0;34m)\u001b[0m\u001b[0;34m)\u001b[0m\u001b[0;34m\u001b[0m\u001b[0;34m\u001b[0m\u001b[0m\n\u001b[1;32m     22\u001b[0m \u001b[0mmodel\u001b[0m\u001b[0;34m.\u001b[0m\u001b[0madd\u001b[0m\u001b[0;34m(\u001b[0m\u001b[0mDense\u001b[0m\u001b[0;34m(\u001b[0m\u001b[0;36m10\u001b[0m\u001b[0;34m,\u001b[0m \u001b[0mactivation\u001b[0m \u001b[0;34m=\u001b[0m \u001b[0;34m'softmax'\u001b[0m\u001b[0;34m)\u001b[0m\u001b[0;34m)\u001b[0m\u001b[0;34m\u001b[0m\u001b[0;34m\u001b[0m\u001b[0m\n",
            "\u001b[0;31mTypeError\u001b[0m: __init__() got an unexpected keyword argument 'activation'"
          ]
        }
      ]
    },
    {
      "cell_type": "code",
      "metadata": {
        "id": "Q3ALuHn6USYn",
        "colab": {
          "base_uri": "https://localhost:8080/",
          "height": 218
        },
        "outputId": "9a768fad-c0cd-473d-ead0-1ca9ecc7b904"
      },
      "source": [
        "model.compile(optimizer='adam',\n",
        "      loss=tf.keras.losses.SparseCategoricalCrossentropy(from_logits=True),\n",
        "      metrics=['accuracy'])\n",
        "\n",
        "history = model.fit(x = X_train, y = Y_train,\n",
        "          epochs = epochs, verbose = 1, \n",
        "          callbacks=[learning_rate_reduction])"
      ],
      "execution_count": null,
      "outputs": [
        {
          "output_type": "error",
          "ename": "NameError",
          "evalue": "ignored",
          "traceback": [
            "\u001b[0;31m---------------------------------------------------------------------------\u001b[0m",
            "\u001b[0;31mNameError\u001b[0m                                 Traceback (most recent call last)",
            "\u001b[0;32m<ipython-input-57-6dc5420b4e1b>\u001b[0m in \u001b[0;36m<module>\u001b[0;34m()\u001b[0m\n\u001b[1;32m      4\u001b[0m \u001b[0;34m\u001b[0m\u001b[0m\n\u001b[1;32m      5\u001b[0m history = model.fit(x = X_train, y = Y_train,\n\u001b[0;32m----> 6\u001b[0;31m           \u001b[0mepochs\u001b[0m \u001b[0;34m=\u001b[0m \u001b[0mepochs\u001b[0m\u001b[0;34m,\u001b[0m \u001b[0mverbose\u001b[0m \u001b[0;34m=\u001b[0m \u001b[0;36m1\u001b[0m\u001b[0;34m,\u001b[0m\u001b[0;34m\u001b[0m\u001b[0;34m\u001b[0m\u001b[0m\n\u001b[0m\u001b[1;32m      7\u001b[0m           callbacks=[learning_rate_reduction])\n",
            "\u001b[0;31mNameError\u001b[0m: name 'epochs' is not defined"
          ]
        }
      ]
    },
    {
      "cell_type": "markdown",
      "metadata": {
        "id": "xVIg3d-vR3fY"
      },
      "source": [
        "# Task 5"
      ]
    },
    {
      "cell_type": "markdown",
      "metadata": {
        "id": "vIp6Hh-WR7im"
      },
      "source": [
        "![image.png](data:image/png;base64,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)"
      ]
    },
    {
      "cell_type": "markdown",
      "metadata": {
        "id": "g0Hc_7hkSX0d"
      },
      "source": [
        "The MNIST dataset is widely used to test models for the first time before running them on untested code, this is to check the reliability of the model through metrics such as accuracy, precision, recall and more. The issue with MNIST is that most models can easily have over 97% accuracy and this may not necessarily indicate that the model used will work as well for other, less explored datasets."
      ]
    },
    {
      "cell_type": "markdown",
      "metadata": {
        "id": "IFzgLiquShhu"
      },
      "source": [
        "![image.png](data:image/png;base64,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)"
      ]
    },
    {
      "cell_type": "markdown",
      "metadata": {
        "id": "zaZbk6Y_UEz6"
      },
      "source": [
        "Having only tested accuracies and 10-fold cross validation of a logistic regression with 100 iterations, we have few metrics to compare. For a more thorough comparision; precision, recall and the f1 score could also be included.\n",
        "\n",
        "Through the two tests, we can see that the MNIST dataset has a much higher fit score of over 92% and an accuracy averaging 0.915 as compared to the Kuzushiji-MNIST dataset’s fit score of 69% and accuracy averaging 0.82."
      ]
    }
  ]
}